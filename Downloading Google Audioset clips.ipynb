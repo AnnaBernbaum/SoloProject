{
 "cells": [
  {
   "cell_type": "markdown",
   "metadata": {},
   "source": [
    "#  Downloading Audio\n",
    "## Anna Bernbaum\n",
    "## April 2019"
   ]
  },
  {
   "cell_type": "markdown",
   "metadata": {},
   "source": [
    "Problems with using the Google AudioSet TFRecords:\n",
    "- Lack of understanding what '128 - dimension audio features extracted at 1 Hz' actually means\n",
    "- Difference between frame level features and video level features is unclear\n",
    "- Embedding? Can you un-embed something?\n",
    "\n",
    "New tactic:\n",
    "- Download the actual audio clips for all speech and cough samples from youtube\n",
    "- Create a spectrogram (or mel spectrogram) for each \n",
    "- Train the model on these images"
   ]
  },
  {
   "cell_type": "code",
   "execution_count": 48,
   "metadata": {},
   "outputs": [],
   "source": [
    "import pandas as pd\n",
    "from random import shuffle"
   ]
  },
  {
   "cell_type": "markdown",
   "metadata": {},
   "source": [
    "# Get all desired YouTubeIDs"
   ]
  },
  {
   "cell_type": "markdown",
   "metadata": {},
   "source": [
    "Let's find the index and code associated with 'Cough':"
   ]
  },
  {
   "cell_type": "code",
   "execution_count": 16,
   "metadata": {},
   "outputs": [
    {
     "name": "stdout",
     "output_type": "stream",
     "text": [
      "['47,/m/01b_21,\"Cough\"']\n",
      "['0,/m/09x0r,\"Speech\"', '7,/m/0brhx,\"Speech synthesizer\"']\n"
     ]
    }
   ],
   "source": [
    "cough_class_label_index = !grep Cough AudioSet/class_labels_indices.csv\n",
    "print(cough_class_label_index)\n",
    "\n",
    "speech_class_label_index = !grep Speech AudioSet/class_labels_indices.csv\n",
    "print(speech_class_label_index)\n"
   ]
  },
  {
   "cell_type": "markdown",
   "metadata": {},
   "source": [
    "Retreiving the class label:"
   ]
  },
  {
   "cell_type": "code",
   "execution_count": 18,
   "metadata": {},
   "outputs": [
    {
     "name": "stdout",
     "output_type": "stream",
     "text": [
      "Cough: /m/01b_21\n",
      "Speech: /m/09x0r\n"
     ]
    }
   ],
   "source": [
    "print(\"Cough:\", cough_class_label_index[0].split(\",\")[1])\n",
    "print(\"Speech:\", speech_class_label_index[0].split(\",\")[1])"
   ]
  },
  {
   "cell_type": "markdown",
   "metadata": {},
   "source": [
    "Finding all samples with the selected label. The header of this table is printed."
   ]
  },
  {
   "cell_type": "code",
   "execution_count": 33,
   "metadata": {},
   "outputs": [
    {
     "name": "stdout",
     "output_type": "stream",
     "text": [
      "Cough samples in Balanced Train: 60\n",
      "Speech samples in Balanced Train: 5735\n",
      "\n",
      "Cough samples in Evaluation: 60\n",
      "Speech samples in Evaluation: 5324\n",
      "\n",
      "Cough samples in Unbalanced Train: 751\n",
      "Speech samples in Unbalanced Train: 999421\n",
      "\n",
      "Total Number of Cough Clips: 871\n",
      "\n",
      "Total Number of Speech Clips: 1010480\n"
     ]
    }
   ],
   "source": [
    "# coughs = !grep /m/01b_21 AudioSet/balanced_train_segments.csv |head  # ID manually inserted\n",
    "# print(type(coughs))\n",
    "# print(coughs)\n",
    "\n",
    "coughs_bal = !grep /m/01b_21 AudioSet/balanced_train_segments.csv | cut -c -11\n",
    "print(\"Cough samples in Balanced Train:\", len(coughs_bal))\n",
    "\n",
    "speech_bal = !grep /m/09x0r AudioSet/balanced_train_segments.csv | cut -c -11\n",
    "print(\"Speech samples in Balanced Train:\", len(speech_bal))\n",
    "\n",
    "\n",
    "coughs_eval = !grep /m/01b_21 AudioSet/eval_segments.csv | cut -c -11\n",
    "print(\"\\nCough samples in Evaluation:\", len(coughs_eval))\n",
    "\n",
    "speech_eval = !grep /m/09x0r AudioSet/eval_segments.csv | cut -c -11\n",
    "print(\"Speech samples in Evaluation:\", len(speech_eval))\n",
    "\n",
    "\n",
    "coughs_unbal = !grep /m/01b_21 AudioSet/unbalanced_train_segments.csv | cut -c -11\n",
    "print(\"\\nCough samples in Unbalanced Train:\", len(coughs_unbal))\n",
    "\n",
    "speech_unbal = !grep /m/09x0r AudioSet/unbalanced_train_segments.csv | cut -c -11\n",
    "print(\"Speech samples in Unbalanced Train:\", len(speech_unbal))\n",
    "      \n",
    "print(\"\\nTotal Number of Cough Clips:\", (len(coughs_bal)+len(coughs_eval)+len(coughs_unbal)))\n",
    "print(\"\\nTotal Number of Speech Clips:\", (len(speech_bal)+len(speech_eval)+len(speech_unbal)))"
   ]
  },
  {
   "cell_type": "markdown",
   "metadata": {},
   "source": [
    "Let's create our own Train : Evaluation : Validation split to maximise the number of clips used."
   ]
  },
  {
   "cell_type": "code",
   "execution_count": 54,
   "metadata": {},
   "outputs": [
    {
     "name": "stdout",
     "output_type": "stream",
     "text": [
      "          Coughs       Speech\n",
      "0    1JxnLOOUHaw  dHKD6FXDxg0\n",
      "1    BG9oq6EH8xE  osn7Hee24kA\n",
      "2    nkwMqCHldFo  3dFUns31Mkk\n",
      "3    nBuw_KZXT_k  505i0nOvAPs\n",
      "4    x2ZyKE89nzw  AE1FBljSwNQ\n",
      "5    _zrAnhgYzSo  lMNzvTZ7WtE\n",
      "6    o8zJ_AjJ388  DMnc6AZ0BuI\n",
      "7    TjP-9AlPShg  UXKvTTa_p60\n",
      "8    HIqJwH6AD9k  M7rZXTGds9Q\n",
      "9    -yJtuj9EuMg  r_m5Udy3D5U\n",
      "10   6OatUcXF4nk  F1LmbGIbZWw\n",
      "11   FTePTiRR_tA  w-Fss5LOvY8\n",
      "12   FvvtH4qSZKg  0UmU9qm8pAw\n",
      "13   RFeU64gTvGQ  cRIVfvnJtyY\n",
      "14   Wqvuk_-8l9c  JHzSp3VfB6Y\n",
      "15   _dfcXBTcmqU  bE2C6PpSabI\n",
      "16   OSlYn9hTRFA  2jEF6mvJEW8\n",
      "17   eAS16z7mRdk  phhnHR_YXEk\n",
      "18   4_0uUL2HPe0  yZc8sp4qYCU\n",
      "19   B-aFrS47bY8  1EQl3i2hAcY\n",
      "20   dFmT9hZ5sbA  ThtbIepQZQo\n",
      "21   ZBzNxwQk9XE  cGL4jOVL09A\n",
      "22   RWlyM4veldE  C4SVOn7EEUc\n",
      "23   U53w21v9s8o  KDInBcnKowE\n",
      "24   cL5zgrlRceI  SmrhZsRRNPA\n",
      "25   Eq_VLzVJSIo  QQfcF9Q064w\n",
      "26   YsUCzO0gfro  ETtU4pSE1H8\n",
      "27   a0WbXTZ5xXE  xbvn55UWVaQ\n",
      "28   YR5rkWyzUkQ  h8nNRqUce8g\n",
      "29   BXLIBedwtKE  Yb9y3P4ZItA\n",
      "..           ...          ...\n",
      "841  4txOUgXllWE  MnQMzH2JLJk\n",
      "842  gBAhZhmhU6g  KKyt_bDeuEA\n",
      "843  XYyORaBHgUI  2A2U_VgnieM\n",
      "844  jNRq5EwaLn8  Xs3c2R46JXA\n",
      "845  _9YKlnmoDjs  xCgOWYBCqO4\n",
      "846  yoNzg8rWm7k  fOlDCJtV4N0\n",
      "847  KTXYBXRVzxA  fZRgXAR8mJA\n",
      "848  Mhy0SUd3DL8  CaSjQjn1bJQ\n",
      "849  Z459PzdNuCU  99s6vvFVPFg\n",
      "850  Tgq8krfDZ4A  SvAmdyIYbY0\n",
      "851  RlGwm1F-_Y4  -plbQ0_Sk08\n",
      "852  87gy1S4dSw8  fOWPrRQVNtQ\n",
      "853  aJdyPN00-bM  -WdyVhnXBrw\n",
      "854  j1JtHfcLG14  Jh3xtfoRXzA\n",
      "855  R0AJ_4W0f8k  nCbJ90oMxfI\n",
      "856  82AH3rqGLBI  GxHmxJb98JM\n",
      "857  3fJcwTKow5c  UULP1u0R5Uo\n",
      "858  7QkwmMU4w1M  ZqplHDTTRRU\n",
      "859  2Ev7_PQ7IIs  H4Ce1s-oqws\n",
      "860  vcN1jyBBmls  1v2Vm8DNOM0\n",
      "861  D38tInhhxLc  SUJ9uaUr4js\n",
      "862  CJdOkPES7dA  zShGk9M1l1Y\n",
      "863  4jQ8ffBxWkk  GA2PNwi0JcM\n",
      "864  NGDBQvQ-97g  RB6PK6UXoPk\n",
      "865  xuTMAOlsAm0  2qneH07vn7I\n",
      "866  es4irq9lyJI  s2n87YKSjrA\n",
      "867  yIC-CoFV9ZI  4z3SRJT7nYU\n",
      "868  eMbVhgCFJQg  -KqXZsCpwHY\n",
      "869  42RAaEB-Jgs  Pv2ibVqZq6M\n",
      "870  nL3LUxrWEpA  J4_7Ph2wHeY\n",
      "\n",
      "[871 rows x 2 columns]\n"
     ]
    }
   ],
   "source": [
    "# combine the lists of youtube ids into one master list\n",
    "all_coughs = (coughs_bal + coughs_eval + coughs_unbal)\n",
    "all_speech = (speech_bal + speech_eval + speech_unbal)\n",
    "\n",
    "# Randomise the YouTubeIDs\n",
    "shuffle(all_coughs)\n",
    "shuffle(all_speech)\n",
    "\n",
    "# create pandas dataframe of YouTubeIDs\n",
    "df = pd.DataFrame()  # create empty dataframe\n",
    "df['Coughs'] = pd.Series(all_coughs)\n",
    "df['Speech'] = pd.Series(all_speech)\n",
    "\n",
    "\n",
    "print(df)"
   ]
  },
  {
   "cell_type": "markdown",
   "metadata": {},
   "source": [
    "# Find Associated YouTube clip for each YouTubeID"
   ]
  },
  {
   "cell_type": "markdown",
   "metadata": {},
   "source": [
    "https://stackoverflow.com/questions/27473526/download-only-audio-from-youtube-video-using-youtube-dl-in-python-script"
   ]
  },
  {
   "cell_type": "markdown",
   "metadata": {},
   "source": [
    "# Find Start and End Time for each YouTubeID"
   ]
  },
  {
   "cell_type": "code",
   "execution_count": null,
   "metadata": {},
   "outputs": [],
   "source": [
    "# Match up ID to row in the CSV"
   ]
  },
  {
   "cell_type": "code",
   "execution_count": null,
   "metadata": {},
   "outputs": [],
   "source": []
  }
 ],
 "metadata": {
  "kernelspec": {
   "display_name": "Python 3",
   "language": "python",
   "name": "python3"
  },
  "language_info": {
   "codemirror_mode": {
    "name": "ipython",
    "version": 3
   },
   "file_extension": ".py",
   "mimetype": "text/x-python",
   "name": "python",
   "nbconvert_exporter": "python",
   "pygments_lexer": "ipython3",
   "version": "3.6.7"
  }
 },
 "nbformat": 4,
 "nbformat_minor": 2
}
