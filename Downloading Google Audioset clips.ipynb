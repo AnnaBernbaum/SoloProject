{
 "cells": [
  {
   "cell_type": "markdown",
   "metadata": {},
   "source": [
    "#  Downloading Audio\n",
    "## Anna Bernbaum\n",
    "## April 2019"
   ]
  },
  {
   "cell_type": "markdown",
   "metadata": {},
   "source": [
    "Problems with using the Google AudioSet TFRecords:\n",
    "- Lack of understanding what '128 - dimension audio features extracted at 1 Hz' actually means\n",
    "- Difference between frame level features and video level features is unclear\n",
    "- Embedding? Can you un-embed something?\n",
    "\n",
    "New tactic:\n",
    "- Download the actual audio clips for all speech and cough samples from youtube\n",
    "- Create a spectrogram (or mel spectrogram) for each \n",
    "- Train the model on these images"
   ]
  },
  {
   "cell_type": "code",
   "execution_count": 2,
   "metadata": {},
   "outputs": [],
   "source": [
    "import pandas as pd\n",
    "import youtube_dl\n",
    "from pydub import AudioSegment\n",
    "from pydub.utils import which\n",
    "from pydub.utils import mediainfo\n",
    "import librosa as librosa\n",
    "import os\n",
    "from random import shuffle\n",
    "import csv\n",
    "\n",
    "import matplotlib.pyplot as plt\n",
    "%matplotlib inline\n",
    "plt.rcParams['figure.figsize'] = [20, 5]"
   ]
  },
  {
   "cell_type": "markdown",
   "metadata": {},
   "source": [
    "# Get all desired YouTubeIDs"
   ]
  },
  {
   "cell_type": "markdown",
   "metadata": {},
   "source": [
    "Let's find the index and code associated with 'Cough':"
   ]
  },
  {
   "cell_type": "code",
   "execution_count": 3,
   "metadata": {},
   "outputs": [
    {
     "name": "stdout",
     "output_type": "stream",
     "text": [
      "['47,/m/01b_21,\"Cough\"']\n",
      "['0,/m/09x0r,\"Speech\"', '7,/m/0brhx,\"Speech synthesizer\"']\n"
     ]
    }
   ],
   "source": [
    "cough_class_label_index = !grep Cough AudioSet/class_labels_indices.csv\n",
    "print(cough_class_label_index)\n",
    "\n",
    "speech_class_label_index = !grep Speech AudioSet/class_labels_indices.csv\n",
    "print(speech_class_label_index)\n"
   ]
  },
  {
   "cell_type": "markdown",
   "metadata": {},
   "source": [
    "Retreiving the class label:"
   ]
  },
  {
   "cell_type": "code",
   "execution_count": 4,
   "metadata": {},
   "outputs": [
    {
     "name": "stdout",
     "output_type": "stream",
     "text": [
      "Cough: /m/01b_21\n",
      "Speech: /m/09x0r\n"
     ]
    }
   ],
   "source": [
    "print(\"Cough:\", cough_class_label_index[0].split(\",\")[1])\n",
    "print(\"Speech:\", speech_class_label_index[0].split(\",\")[1])"
   ]
  },
  {
   "cell_type": "markdown",
   "metadata": {},
   "source": [
    "Finding all samples with the selected label. The header of this table is printed."
   ]
  },
  {
   "cell_type": "code",
   "execution_count": 6,
   "metadata": {},
   "outputs": [
    {
     "name": "stdout",
     "output_type": "stream",
     "text": [
      "Cough samples in Balanced Train: 60\n",
      "Speech samples in Balanced Train: 5735\n",
      "\n",
      "Cough samples in Evaluation: 60\n",
      "Speech samples in Evaluation: 5324\n",
      "\n",
      "Cough samples in Unbalanced Train: 751\n",
      "Speech samples in Unbalanced Train: 999421\n",
      "\n",
      "Total Number of Cough Clips: 871\n",
      "\n",
      "Total Number of Speech Clips: 1010480\n"
     ]
    }
   ],
   "source": [
    "# coughs = !grep /m/01b_21 AudioSet/balanced_train_segments.csv |head  # ID manually inserted\n",
    "# print(type(coughs))\n",
    "# print(coughs)\n",
    "\n",
    "# Maybe select speech clips with only a speech tag\n",
    "# ignore clips with speech and cough tag\n",
    "\n",
    "coughs_bal = !grep /m/01b_21 AudioSet/balanced_train_segments.csv | cut -c -11\n",
    "coughs_bal_starts = !grep /m/01b_21 AudioSet/balanced_train_segments.csv | cut -d ',' -f 2\n",
    "print(\"Cough samples in Balanced Train:\", len(coughs_bal))\n",
    "\n",
    "speech_bal = !grep /m/09x0r AudioSet/balanced_train_segments.csv | cut -c -11\n",
    "speech_bal_starts = !grep /m/09x0r AudioSet/balanced_train_segments.csv | cut -d ',' -f 2\n",
    "print(\"Speech samples in Balanced Train:\", len(speech_bal))\n",
    "\n",
    "\n",
    "coughs_eval = !grep /m/01b_21 AudioSet/eval_segments.csv | cut -c -11\n",
    "coughs_eval_starts = !grep /m/01b_21 AudioSet/eval_segments.csv | cut -d ',' -f 2\n",
    "print(\"\\nCough samples in Evaluation:\", len(coughs_eval))\n",
    "\n",
    "speech_eval = !grep /m/09x0r AudioSet/eval_segments.csv | cut -c -11\n",
    "speech_eval_starts = !grep /m/09x0r AudioSet/eval_segments.csv | cut -d ',' -f 2\n",
    "print(\"Speech samples in Evaluation:\", len(speech_eval))\n",
    "\n",
    "\n",
    "coughs_unbal = !grep /m/01b_21 AudioSet/unbalanced_train_segments.csv | cut -c -11\n",
    "coughs_unbal_starts = !grep /m/01b_21 AudioSet/unbalanced_train_segments.csv | cut -d ',' -f 2\n",
    "print(\"\\nCough samples in Unbalanced Train:\", len(coughs_unbal))\n",
    "\n",
    "speech_unbal = !grep /m/09x0r AudioSet/unbalanced_train_segments.csv | cut -c -11\n",
    "speech_unbal_starts = !grep /m/09x0r AudioSet/unbalanced_train_segments.csv | cut -d ',' -f 2\n",
    "print(\"Speech samples in Unbalanced Train:\", len(speech_unbal))\n",
    "      \n",
    "print(\"\\nTotal Number of Cough Clips:\", (len(coughs_bal)+len(coughs_eval)+len(coughs_unbal)))\n",
    "print(\"\\nTotal Number of Speech Clips:\", (len(speech_bal)+len(speech_eval)+len(speech_unbal)))"
   ]
  },
  {
   "cell_type": "markdown",
   "metadata": {},
   "source": [
    "Let's create our own Train : Evaluation : Validation split to maximise the number of clips used. This will be done in a separate file, but here we combine all available clips."
   ]
  },
  {
   "cell_type": "code",
   "execution_count": 7,
   "metadata": {},
   "outputs": [
    {
     "name": "stdout",
     "output_type": "stream",
     "text": [
      "    Speech YouTubeIDs Speech Starts\n",
      "0         03r3PwMZUso         0.000\n",
      "1         4HdRojmCQxA         0.000\n",
      "2         cglFhkbrh8g        60.000\n",
      "3         FqhNYFQWuaM        30.000\n",
      "4         3PRD7ld0AUc        30.000\n",
      "5         H2KBpauoDNs        21.000\n",
      "6         RFUXSGZgbRg        30.000\n",
      "7         tTp43eLqytA        30.000\n",
      "8         9e4-9LuJ89I        30.000\n",
      "9         _qw1nngzu8I        30.000\n",
      "10        AZmImkrr9fc        30.000\n",
      "11        9VK1ge2LKZ4        30.000\n",
      "12        zA4QCodZq9o         0.000\n",
      "13        5ze2kRrm9r4        30.000\n",
      "14        5M0wBBUi8-g       250.000\n",
      "15        R0yvDmBxZbM        30.000\n",
      "16        sbI-6Trfyq8        22.000\n",
      "17        CC8b-u97I-k        30.000\n",
      "18        -T3OZDxQRx8        30.000\n",
      "19        jE03-vsLQVo       460.000\n",
      "20        D6DLOKfRka8        30.000\n",
      "21        iHF9SaeTN7Q        30.000\n",
      "22        UUOforOMk04        30.000\n",
      "23        J0SM1roAHMc        30.000\n",
      "24        2FRt27pXoBM        30.000\n",
      "25        MLqJ_njQv_U        30.000\n",
      "26        cRlceSMWzE0        30.000\n",
      "27        2CMdPVBfm_I        22.000\n",
      "28        1u83qqmOHss        30.000\n",
      "29        8nr5jelebhA        30.000\n",
      "..                ...           ...\n",
      "841       BhhB61baqiw        30.000\n",
      "842       gHipraJY6BM        30.000\n",
      "843       -7SmuwnX8Zo         0.000\n",
      "844       aGNtNmLiG7A        10.000\n",
      "845       rjtNY_P2o2I        30.000\n",
      "846       KrU8Ke9ylS0        19.000\n",
      "847       P2WwZj7Rnq4       190.000\n",
      "848       2lxbUen91Rk        30.000\n",
      "849       z5JTpD9w2ew        10.000\n",
      "850       0GLYVrbcUHM         0.000\n",
      "851       Q8oRhpjoFrY        30.000\n",
      "852       F2qRvxaTvhU        40.000\n",
      "853       LBaBdZWPKMs        30.000\n",
      "854       DQCAGUgwLCk       220.000\n",
      "855       Wg8BPru1luA        30.000\n",
      "856       uWaWeVmpYvQ        30.000\n",
      "857       1g9H1PN1Ioo        30.000\n",
      "858       wWLjYR-SKGQ        27.000\n",
      "859       EkifTgd7ahs         0.000\n",
      "860       7ONV8LWAyE4        30.000\n",
      "861       uZhwXiqoVnA       390.000\n",
      "862       kIlUbTHiDGk        30.000\n",
      "863       EtC3sTyQ8DE        30.000\n",
      "864       -O_F9WhayAk        27.000\n",
      "865       Za7atOWqzsw        30.000\n",
      "866       fMwjrp_VLG4        10.000\n",
      "867       kNU_EMbnkF0       380.000\n",
      "868       -qboVa6n96k        30.000\n",
      "869       pV_38mn-gOQ        30.000\n",
      "870       E0cv4sjJmUQ        26.000\n",
      "\n",
      "[871 rows x 2 columns]\n",
      "    Coughs YouTubeIDs Coughs Starts\n",
      "0         -C4qMfo3Ywk        90.000\n",
      "1         qR3fJNSRvJ8        10.000\n",
      "2         -jLQkyDhIxw        10.000\n",
      "3         gus1GHeS7IE         0.000\n",
      "4         60NM10sTc9c        20.000\n",
      "5         r-9_WkeHiCU        80.000\n",
      "6         hyXmrD82hLU       210.000\n",
      "7         DuW_UxyOD-4       260.000\n",
      "8         cLBKVLHFABc        10.000\n",
      "9         eeGCmxvc6Us        60.000\n",
      "10        khC7ed0_Kvs       190.000\n",
      "11        vMfc_I1Is_0        40.000\n",
      "12        -o2vmOibWF4       310.000\n",
      "13        wEIr3uj5QdE         0.000\n",
      "14        fUBBh2iVC9U       210.000\n",
      "15        kl5BRfvIqGk        60.000\n",
      "16        0oUkEze_kmo        30.000\n",
      "17        Rr84-EZvO0U        90.000\n",
      "18        iUtE4nRvBsM        40.000\n",
      "19        o57a81w9c-k       100.000\n",
      "20        2ZfwEg4JaiU         0.000\n",
      "21        P8BKuqKM-II        20.000\n",
      "22        Sjbdarlco0M       290.000\n",
      "23        3KeyvLYtAWo         0.000\n",
      "24        nW9VFd43pFI        80.000\n",
      "25        3dndmOMZlP8       100.000\n",
      "26        5hmDPsZnmf4        30.000\n",
      "27        _zrAnhgYzSo        10.000\n",
      "28        MHdNcwiHMqM         0.000\n",
      "29        H7h37j9fiBc        40.000\n",
      "..                ...           ...\n",
      "841       cTxs2Ew0RTE        40.000\n",
      "842       BNRW9HvOF4s       100.000\n",
      "843       dcPIGsnBYKg        10.000\n",
      "844       sHdnsxOtVVI       170.000\n",
      "845       lW6PcJoKR68       340.000\n",
      "846       TDuqAUQSIFY        40.000\n",
      "847       RjBD88gZ8SE        10.000\n",
      "848       iWqHHUf4qR4         0.000\n",
      "849       dWkml_CdR5w       270.000\n",
      "850       Upak5y2L3dc       240.000\n",
      "851       XqqfOyDsg8E        30.000\n",
      "852       USCoU2yzu6o        30.000\n",
      "853       -hu5q-Nn4BM        70.000\n",
      "854       fsKdJ0u2Nog         0.000\n",
      "855       bCOmV_G0pkk       100.000\n",
      "856       3vYB7hZxQgA        10.000\n",
      "857       hQbdGozAPOU        10.000\n",
      "858       B4dHtSx7OGc        60.000\n",
      "859       JBqwe7ycNJ8       120.000\n",
      "860       oBLLs2UcJbQ       100.000\n",
      "861       lj3UH3ZE2lg         0.000\n",
      "862       jE6p3ZnefgI        90.000\n",
      "863       hSQx9PfDrmc        20.000\n",
      "864       2BxY32GiQt8       420.000\n",
      "865       8N5XxcJ7QOU        20.000\n",
      "866       0UKv333EMPM       230.000\n",
      "867       FvvtH4qSZKg        20.000\n",
      "868       mISc-Iebq64       510.000\n",
      "869       2TBWSnIjJMk       180.000\n",
      "870       MoXvWqQ2v38       300.000\n",
      "\n",
      "[871 rows x 2 columns]\n"
     ]
    }
   ],
   "source": [
    "# combine the lists of youtube ids into one master list\n",
    "all_coughs = (coughs_bal + coughs_eval + coughs_unbal)\n",
    "all_speech = (speech_bal + speech_eval + speech_unbal)\n",
    "\n",
    "all_coughs_starts = (coughs_bal_starts + coughs_eval_starts + coughs_unbal_starts)\n",
    "all_speech_starts = (speech_bal_starts + speech_eval_starts + speech_unbal_starts)\n",
    "\n",
    "\n",
    "# create pandas dataframe of YouTubeIDs\n",
    "speech_df = pd.DataFrame()  # create empty dataframe\n",
    "cough_df = pd.DataFrame()\n",
    "speech_df['Speech YouTubeIDs'] = pd.Series(all_speech)\n",
    "cough_df['Coughs YouTubeIDs'] = pd.Series(all_coughs)\n",
    "speech_df['Speech Starts'] = pd.Series(all_speech_starts)\n",
    "cough_df['Coughs Starts'] = pd.Series(all_coughs_starts)\n",
    "\n",
    "# Shuffle the dataframes\n",
    "speech_df = speech_df.sample(frac=1).reset_index(drop=True)\n",
    "cough_df = cough_df.sample(frac=1).reset_index(drop=True)\n",
    "\n",
    "# Trim Speech Df\n",
    "speech_df = speech_df[:871]\n",
    "\n",
    "print(speech_df)\n",
    "print(cough_df)"
   ]
  },
  {
   "cell_type": "markdown",
   "metadata": {},
   "source": [
    "# Find Associated YouTube clip for each YouTubeID"
   ]
  },
  {
   "cell_type": "markdown",
   "metadata": {},
   "source": [
    "https://stackoverflow.com/questions/27473526/download-only-audio-from-youtube-video-using-youtube-dl-in-python-script\n",
    "\n",
    "https://stackoverflow.com/questions/28423501/download-part-of-the-youtube-video-using-python\n"
   ]
  },
  {
   "cell_type": "markdown",
   "metadata": {},
   "source": [
    "## Getting all Speech Clips"
   ]
  },
  {
   "cell_type": "code",
   "execution_count": 9,
   "metadata": {},
   "outputs": [
    {
     "name": "stdout",
     "output_type": "stream",
     "text": [
      "[youtube] 03r3PwMZUso: Downloading webpage\n",
      "[youtube] 03r3PwMZUso: Downloading video info webpage\n"
     ]
    },
    {
     "name": "stderr",
     "output_type": "stream",
     "text": [
      "ERROR: 03r3PwMZUso: \"token\" parameter not in video info for unknown reason; please report this issue on https://yt-dl.org/bug . Make sure you are using the latest version; see  https://yt-dl.org/update  on how to update. Be sure to call youtube-dl with the --verbose flag and include its complete output.\n"
     ]
    },
    {
     "name": "stdout",
     "output_type": "stream",
     "text": [
      "[youtube] 4HdRojmCQxA: Downloading webpage\n",
      "[youtube] 4HdRojmCQxA: Downloading video info webpage\n"
     ]
    },
    {
     "name": "stderr",
     "output_type": "stream",
     "text": [
      "ERROR: 4HdRojmCQxA: \"token\" parameter not in video info for unknown reason; please report this issue on https://yt-dl.org/bug . Make sure you are using the latest version; see  https://yt-dl.org/update  on how to update. Be sure to call youtube-dl with the --verbose flag and include its complete output.\n"
     ]
    },
    {
     "name": "stdout",
     "output_type": "stream",
     "text": [
      "[youtube] cglFhkbrh8g: Downloading webpage\n",
      "[youtube] cglFhkbrh8g: Downloading video info webpage\n",
      "[youtube] FqhNYFQWuaM: Downloading webpage\n",
      "[youtube] FqhNYFQWuaM: Downloading video info webpage\n"
     ]
    },
    {
     "name": "stderr",
     "output_type": "stream",
     "text": [
      "ERROR: FqhNYFQWuaM: \"token\" parameter not in video info for unknown reason; please report this issue on https://yt-dl.org/bug . Make sure you are using the latest version; see  https://yt-dl.org/update  on how to update. Be sure to call youtube-dl with the --verbose flag and include its complete output.\n"
     ]
    },
    {
     "name": "stdout",
     "output_type": "stream",
     "text": [
      "[youtube] 3PRD7ld0AUc: Downloading webpage\n",
      "[youtube] 3PRD7ld0AUc: Downloading video info webpage\n"
     ]
    },
    {
     "name": "stderr",
     "output_type": "stream",
     "text": [
      "ERROR: 3PRD7ld0AUc: \"token\" parameter not in video info for unknown reason; please report this issue on https://yt-dl.org/bug . Make sure you are using the latest version; see  https://yt-dl.org/update  on how to update. Be sure to call youtube-dl with the --verbose flag and include its complete output.\n"
     ]
    },
    {
     "name": "stdout",
     "output_type": "stream",
     "text": [
      "[youtube] H2KBpauoDNs: Downloading webpage\n",
      "[youtube] H2KBpauoDNs: Downloading video info webpage\n"
     ]
    },
    {
     "name": "stderr",
     "output_type": "stream",
     "text": [
      "ERROR: H2KBpauoDNs: \"token\" parameter not in video info for unknown reason; please report this issue on https://yt-dl.org/bug . Make sure you are using the latest version; see  https://yt-dl.org/update  on how to update. Be sure to call youtube-dl with the --verbose flag and include its complete output.\n"
     ]
    },
    {
     "name": "stdout",
     "output_type": "stream",
     "text": [
      "[youtube] RFUXSGZgbRg: Downloading webpage\n",
      "[youtube] RFUXSGZgbRg: Downloading video info webpage\n",
      "[youtube] tTp43eLqytA: Downloading webpage\n",
      "[youtube] tTp43eLqytA: Downloading video info webpage\n"
     ]
    },
    {
     "name": "stderr",
     "output_type": "stream",
     "text": [
      "ERROR: tTp43eLqytA: \"token\" parameter not in video info for unknown reason; please report this issue on https://yt-dl.org/bug . Make sure you are using the latest version; see  https://yt-dl.org/update  on how to update. Be sure to call youtube-dl with the --verbose flag and include its complete output.\n"
     ]
    },
    {
     "name": "stdout",
     "output_type": "stream",
     "text": [
      "[youtube] 9e4-9LuJ89I: Downloading webpage\n",
      "[youtube] 9e4-9LuJ89I: Downloading video info webpage\n"
     ]
    },
    {
     "name": "stderr",
     "output_type": "stream",
     "text": [
      "ERROR: 9e4-9LuJ89I: \"token\" parameter not in video info for unknown reason; please report this issue on https://yt-dl.org/bug . Make sure you are using the latest version; see  https://yt-dl.org/update  on how to update. Be sure to call youtube-dl with the --verbose flag and include its complete output.\n"
     ]
    },
    {
     "name": "stdout",
     "output_type": "stream",
     "text": [
      "[youtube] _qw1nngzu8I: Downloading webpage\n",
      "[youtube] _qw1nngzu8I: Downloading video info webpage\n"
     ]
    },
    {
     "name": "stderr",
     "output_type": "stream",
     "text": [
      "ERROR: _qw1nngzu8I: \"token\" parameter not in video info for unknown reason; please report this issue on https://yt-dl.org/bug . Make sure you are using the latest version; see  https://yt-dl.org/update  on how to update. Be sure to call youtube-dl with the --verbose flag and include its complete output.\n"
     ]
    },
    {
     "name": "stdout",
     "output_type": "stream",
     "text": [
      "[youtube] AZmImkrr9fc: Downloading webpage\n",
      "[youtube] AZmImkrr9fc: Downloading video info webpage\n"
     ]
    },
    {
     "name": "stderr",
     "output_type": "stream",
     "text": [
      "ERROR: AZmImkrr9fc: \"token\" parameter not in video info for unknown reason; please report this issue on https://yt-dl.org/bug . Make sure you are using the latest version; see  https://yt-dl.org/update  on how to update. Be sure to call youtube-dl with the --verbose flag and include its complete output.\n"
     ]
    },
    {
     "name": "stdout",
     "output_type": "stream",
     "text": [
      "[youtube] 9VK1ge2LKZ4: Downloading webpage\n",
      "[youtube] 9VK1ge2LKZ4: Downloading video info webpage\n"
     ]
    },
    {
     "name": "stderr",
     "output_type": "stream",
     "text": [
      "ERROR: 9VK1ge2LKZ4: \"token\" parameter not in video info for unknown reason; please report this issue on https://yt-dl.org/bug . Make sure you are using the latest version; see  https://yt-dl.org/update  on how to update. Be sure to call youtube-dl with the --verbose flag and include its complete output.\n"
     ]
    },
    {
     "name": "stdout",
     "output_type": "stream",
     "text": [
      "[youtube] zA4QCodZq9o: Downloading webpage\n",
      "[youtube] zA4QCodZq9o: Downloading video info webpage\n"
     ]
    },
    {
     "name": "stderr",
     "output_type": "stream",
     "text": [
      "ERROR: zA4QCodZq9o: \"token\" parameter not in video info for unknown reason; please report this issue on https://yt-dl.org/bug . Make sure you are using the latest version; see  https://yt-dl.org/update  on how to update. Be sure to call youtube-dl with the --verbose flag and include its complete output.\n"
     ]
    },
    {
     "name": "stdout",
     "output_type": "stream",
     "text": [
      "[youtube] 5ze2kRrm9r4: Downloading webpage\n",
      "[youtube] 5ze2kRrm9r4: Downloading video info webpage\n"
     ]
    },
    {
     "name": "stderr",
     "output_type": "stream",
     "text": [
      "ERROR: 5ze2kRrm9r4: \"token\" parameter not in video info for unknown reason; please report this issue on https://yt-dl.org/bug . Make sure you are using the latest version; see  https://yt-dl.org/update  on how to update. Be sure to call youtube-dl with the --verbose flag and include its complete output.\n"
     ]
    },
    {
     "name": "stdout",
     "output_type": "stream",
     "text": [
      "[youtube] 5M0wBBUi8-g: Downloading webpage\n",
      "[youtube] 5M0wBBUi8-g: Downloading video info webpage\n"
     ]
    },
    {
     "name": "stderr",
     "output_type": "stream",
     "text": [
      "ERROR: 5M0wBBUi8-g: \"token\" parameter not in video info for unknown reason; please report this issue on https://yt-dl.org/bug . Make sure you are using the latest version; see  https://yt-dl.org/update  on how to update. Be sure to call youtube-dl with the --verbose flag and include its complete output.\n"
     ]
    },
    {
     "name": "stdout",
     "output_type": "stream",
     "text": [
      "[youtube] R0yvDmBxZbM: Downloading webpage\n",
      "[youtube] R0yvDmBxZbM: Downloading video info webpage\n"
     ]
    },
    {
     "name": "stderr",
     "output_type": "stream",
     "text": [
      "ERROR: R0yvDmBxZbM: \"token\" parameter not in video info for unknown reason; please report this issue on https://yt-dl.org/bug . Make sure you are using the latest version; see  https://yt-dl.org/update  on how to update. Be sure to call youtube-dl with the --verbose flag and include its complete output.\n"
     ]
    },
    {
     "name": "stdout",
     "output_type": "stream",
     "text": [
      "[youtube] sbI-6Trfyq8: Downloading webpage\n",
      "[youtube] sbI-6Trfyq8: Downloading video info webpage\n"
     ]
    },
    {
     "name": "stderr",
     "output_type": "stream",
     "text": [
      "ERROR: sbI-6Trfyq8: \"token\" parameter not in video info for unknown reason; please report this issue on https://yt-dl.org/bug . Make sure you are using the latest version; see  https://yt-dl.org/update  on how to update. Be sure to call youtube-dl with the --verbose flag and include its complete output.\n"
     ]
    },
    {
     "name": "stdout",
     "output_type": "stream",
     "text": [
      "[youtube] CC8b-u97I-k: Downloading webpage\n",
      "[youtube] CC8b-u97I-k: Downloading video info webpage\n"
     ]
    },
    {
     "name": "stderr",
     "output_type": "stream",
     "text": [
      "ERROR: CC8b-u97I-k: \"token\" parameter not in video info for unknown reason; please report this issue on https://yt-dl.org/bug . Make sure you are using the latest version; see  https://yt-dl.org/update  on how to update. Be sure to call youtube-dl with the --verbose flag and include its complete output.\n"
     ]
    },
    {
     "name": "stdout",
     "output_type": "stream",
     "text": [
      "[youtube] -T3OZDxQRx8: Downloading webpage\n",
      "[youtube] -T3OZDxQRx8: Downloading video info webpage\n"
     ]
    },
    {
     "name": "stderr",
     "output_type": "stream",
     "text": [
      "ERROR: -T3OZDxQRx8: \"token\" parameter not in video info for unknown reason; please report this issue on https://yt-dl.org/bug . Make sure you are using the latest version; see  https://yt-dl.org/update  on how to update. Be sure to call youtube-dl with the --verbose flag and include its complete output.\n"
     ]
    },
    {
     "name": "stdout",
     "output_type": "stream",
     "text": [
      "[youtube] jE03-vsLQVo: Downloading webpage\n",
      "[youtube] jE03-vsLQVo: Downloading video info webpage\n"
     ]
    },
    {
     "name": "stderr",
     "output_type": "stream",
     "text": [
      "ERROR: jE03-vsLQVo: \"token\" parameter not in video info for unknown reason; please report this issue on https://yt-dl.org/bug . Make sure you are using the latest version; see  https://yt-dl.org/update  on how to update. Be sure to call youtube-dl with the --verbose flag and include its complete output.\n"
     ]
    },
    {
     "name": "stdout",
     "output_type": "stream",
     "text": [
      "[youtube] D6DLOKfRka8: Downloading webpage\n",
      "[youtube] D6DLOKfRka8: Downloading video info webpage\n"
     ]
    },
    {
     "name": "stderr",
     "output_type": "stream",
     "text": [
      "ERROR: D6DLOKfRka8: YouTube said: This video is unavailable.\n"
     ]
    },
    {
     "name": "stdout",
     "output_type": "stream",
     "text": [
      "[youtube] iHF9SaeTN7Q: Downloading webpage\n",
      "[youtube] iHF9SaeTN7Q: Downloading video info webpage\n"
     ]
    },
    {
     "name": "stderr",
     "output_type": "stream",
     "text": [
      "ERROR: iHF9SaeTN7Q: \"token\" parameter not in video info for unknown reason; please report this issue on https://yt-dl.org/bug . Make sure you are using the latest version; see  https://yt-dl.org/update  on how to update. Be sure to call youtube-dl with the --verbose flag and include its complete output.\n"
     ]
    },
    {
     "name": "stdout",
     "output_type": "stream",
     "text": [
      "[youtube] UUOforOMk04: Downloading webpage\n",
      "[youtube] UUOforOMk04: Downloading video info webpage\n"
     ]
    },
    {
     "name": "stderr",
     "output_type": "stream",
     "text": [
      "ERROR: UUOforOMk04: \"token\" parameter not in video info for unknown reason; please report this issue on https://yt-dl.org/bug . Make sure you are using the latest version; see  https://yt-dl.org/update  on how to update. Be sure to call youtube-dl with the --verbose flag and include its complete output.\n"
     ]
    },
    {
     "name": "stdout",
     "output_type": "stream",
     "text": [
      "[youtube] J0SM1roAHMc: Downloading webpage\n",
      "[youtube] J0SM1roAHMc: Downloading video info webpage\n"
     ]
    },
    {
     "name": "stderr",
     "output_type": "stream",
     "text": [
      "ERROR: J0SM1roAHMc: \"token\" parameter not in video info for unknown reason; please report this issue on https://yt-dl.org/bug . Make sure you are using the latest version; see  https://yt-dl.org/update  on how to update. Be sure to call youtube-dl with the --verbose flag and include its complete output.\n"
     ]
    },
    {
     "name": "stdout",
     "output_type": "stream",
     "text": [
      "[youtube] 2FRt27pXoBM: Downloading webpage\n",
      "[youtube] 2FRt27pXoBM: Downloading video info webpage\n"
     ]
    },
    {
     "name": "stderr",
     "output_type": "stream",
     "text": [
      "ERROR: 2FRt27pXoBM: \"token\" parameter not in video info for unknown reason; please report this issue on https://yt-dl.org/bug . Make sure you are using the latest version; see  https://yt-dl.org/update  on how to update. Be sure to call youtube-dl with the --verbose flag and include its complete output.\n"
     ]
    },
    {
     "name": "stdout",
     "output_type": "stream",
     "text": [
      "[youtube] MLqJ_njQv_U: Downloading webpage\n",
      "[youtube] MLqJ_njQv_U: Downloading video info webpage\n"
     ]
    },
    {
     "name": "stderr",
     "output_type": "stream",
     "text": [
      "ERROR: MLqJ_njQv_U: \"token\" parameter not in video info for unknown reason; please report this issue on https://yt-dl.org/bug . Make sure you are using the latest version; see  https://yt-dl.org/update  on how to update. Be sure to call youtube-dl with the --verbose flag and include its complete output.\n"
     ]
    },
    {
     "name": "stdout",
     "output_type": "stream",
     "text": [
      "[youtube] cRlceSMWzE0: Downloading webpage\n",
      "[youtube] cRlceSMWzE0: Downloading video info webpage\n"
     ]
    },
    {
     "name": "stderr",
     "output_type": "stream",
     "text": [
      "ERROR: cRlceSMWzE0: \"token\" parameter not in video info for unknown reason; please report this issue on https://yt-dl.org/bug . Make sure you are using the latest version; see  https://yt-dl.org/update  on how to update. Be sure to call youtube-dl with the --verbose flag and include its complete output.\n"
     ]
    },
    {
     "name": "stdout",
     "output_type": "stream",
     "text": [
      "[youtube] 2CMdPVBfm_I: Downloading webpage\n",
      "[youtube] 2CMdPVBfm_I: Downloading video info webpage\n"
     ]
    },
    {
     "name": "stderr",
     "output_type": "stream",
     "text": [
      "ERROR: 2CMdPVBfm_I: \"token\" parameter not in video info for unknown reason; please report this issue on https://yt-dl.org/bug . Make sure you are using the latest version; see  https://yt-dl.org/update  on how to update. Be sure to call youtube-dl with the --verbose flag and include its complete output.\n"
     ]
    },
    {
     "name": "stdout",
     "output_type": "stream",
     "text": [
      "[youtube] 1u83qqmOHss: Downloading webpage\n",
      "[youtube] 1u83qqmOHss: Downloading video info webpage\n"
     ]
    },
    {
     "name": "stderr",
     "output_type": "stream",
     "text": [
      "ERROR: 1u83qqmOHss: \"token\" parameter not in video info for unknown reason; please report this issue on https://yt-dl.org/bug . Make sure you are using the latest version; see  https://yt-dl.org/update  on how to update. Be sure to call youtube-dl with the --verbose flag and include its complete output.\n"
     ]
    },
    {
     "name": "stdout",
     "output_type": "stream",
     "text": [
      "[youtube] 8nr5jelebhA: Downloading webpage\n",
      "[youtube] 8nr5jelebhA: Downloading video info webpage\n"
     ]
    },
    {
     "name": "stderr",
     "output_type": "stream",
     "text": [
      "ERROR: 8nr5jelebhA: \"token\" parameter not in video info for unknown reason; please report this issue on https://yt-dl.org/bug . Make sure you are using the latest version; see  https://yt-dl.org/update  on how to update. Be sure to call youtube-dl with the --verbose flag and include its complete output.\n"
     ]
    },
    {
     "name": "stdout",
     "output_type": "stream",
     "text": [
      "[youtube] JSAdRJ6BDHc: Downloading webpage\n",
      "[youtube] JSAdRJ6BDHc: Downloading video info webpage\n"
     ]
    },
    {
     "name": "stderr",
     "output_type": "stream",
     "text": [
      "ERROR: JSAdRJ6BDHc: \"token\" parameter not in video info for unknown reason; please report this issue on https://yt-dl.org/bug . Make sure you are using the latest version; see  https://yt-dl.org/update  on how to update. Be sure to call youtube-dl with the --verbose flag and include its complete output.\n"
     ]
    },
    {
     "name": "stdout",
     "output_type": "stream",
     "text": [
      "[youtube] 6nYX-V5W8VQ: Downloading webpage\n",
      "[youtube] 6nYX-V5W8VQ: Downloading video info webpage\n"
     ]
    },
    {
     "name": "stderr",
     "output_type": "stream",
     "text": [
      "ERROR: 6nYX-V5W8VQ: \"token\" parameter not in video info for unknown reason; please report this issue on https://yt-dl.org/bug . Make sure you are using the latest version; see  https://yt-dl.org/update  on how to update. Be sure to call youtube-dl with the --verbose flag and include its complete output.\n"
     ]
    },
    {
     "name": "stdout",
     "output_type": "stream",
     "text": [
      "[youtube] z-qbzxrFBaw: Downloading webpage\n",
      "[youtube] z-qbzxrFBaw: Downloading video info webpage\n"
     ]
    },
    {
     "name": "stderr",
     "output_type": "stream",
     "text": [
      "ERROR: z-qbzxrFBaw: \"token\" parameter not in video info for unknown reason; please report this issue on https://yt-dl.org/bug . Make sure you are using the latest version; see  https://yt-dl.org/update  on how to update. Be sure to call youtube-dl with the --verbose flag and include its complete output.\n"
     ]
    },
    {
     "name": "stdout",
     "output_type": "stream",
     "text": [
      "[youtube] wESLqY2AgO4: Downloading webpage\n",
      "[youtube] wESLqY2AgO4: Downloading video info webpage\n"
     ]
    },
    {
     "name": "stderr",
     "output_type": "stream",
     "text": [
      "ERROR: wESLqY2AgO4: \"token\" parameter not in video info for unknown reason; please report this issue on https://yt-dl.org/bug . Make sure you are using the latest version; see  https://yt-dl.org/update  on how to update. Be sure to call youtube-dl with the --verbose flag and include its complete output.\n"
     ]
    },
    {
     "name": "stdout",
     "output_type": "stream",
     "text": [
      "[youtube] -16ZFtFAu8I: Downloading webpage\n",
      "[youtube] -16ZFtFAu8I: Downloading video info webpage\n"
     ]
    },
    {
     "name": "stderr",
     "output_type": "stream",
     "text": [
      "ERROR: -16ZFtFAu8I: \"token\" parameter not in video info for unknown reason; please report this issue on https://yt-dl.org/bug . Make sure you are using the latest version; see  https://yt-dl.org/update  on how to update. Be sure to call youtube-dl with the --verbose flag and include its complete output.\n"
     ]
    },
    {
     "name": "stdout",
     "output_type": "stream",
     "text": [
      "[youtube] VGB8u39MDOI: Downloading webpage\n",
      "[youtube] VGB8u39MDOI: Downloading video info webpage\n"
     ]
    },
    {
     "name": "stderr",
     "output_type": "stream",
     "text": [
      "ERROR: VGB8u39MDOI: \"token\" parameter not in video info for unknown reason; please report this issue on https://yt-dl.org/bug . Make sure you are using the latest version; see  https://yt-dl.org/update  on how to update. Be sure to call youtube-dl with the --verbose flag and include its complete output.\n"
     ]
    },
    {
     "name": "stdout",
     "output_type": "stream",
     "text": [
      "[youtube] sesHRFK3Dgg: Downloading webpage\n",
      "[youtube] sesHRFK3Dgg: Downloading video info webpage\n"
     ]
    },
    {
     "name": "stderr",
     "output_type": "stream",
     "text": [
      "ERROR: sesHRFK3Dgg: \"token\" parameter not in video info for unknown reason; please report this issue on https://yt-dl.org/bug . Make sure you are using the latest version; see  https://yt-dl.org/update  on how to update. Be sure to call youtube-dl with the --verbose flag and include its complete output.\n"
     ]
    },
    {
     "name": "stdout",
     "output_type": "stream",
     "text": [
      "[youtube] ho7kNQ3n9JI: Downloading webpage\n",
      "[youtube] ho7kNQ3n9JI: Downloading video info webpage\n"
     ]
    },
    {
     "name": "stderr",
     "output_type": "stream",
     "text": [
      "ERROR: ho7kNQ3n9JI: \"token\" parameter not in video info for unknown reason; please report this issue on https://yt-dl.org/bug . Make sure you are using the latest version; see  https://yt-dl.org/update  on how to update. Be sure to call youtube-dl with the --verbose flag and include its complete output.\n"
     ]
    },
    {
     "name": "stdout",
     "output_type": "stream",
     "text": [
      "[youtube] DNiAyPJblPc: Downloading webpage\n",
      "[youtube] DNiAyPJblPc: Downloading video info webpage\n"
     ]
    },
    {
     "name": "stderr",
     "output_type": "stream",
     "text": [
      "ERROR: DNiAyPJblPc: \"token\" parameter not in video info for unknown reason; please report this issue on https://yt-dl.org/bug . Make sure you are using the latest version; see  https://yt-dl.org/update  on how to update. Be sure to call youtube-dl with the --verbose flag and include its complete output.\n"
     ]
    },
    {
     "name": "stdout",
     "output_type": "stream",
     "text": [
      "[youtube] b6-tMp4cHDI: Downloading webpage\n",
      "[youtube] b6-tMp4cHDI: Downloading video info webpage\n"
     ]
    },
    {
     "name": "stderr",
     "output_type": "stream",
     "text": [
      "ERROR: b6-tMp4cHDI: \"token\" parameter not in video info for unknown reason; please report this issue on https://yt-dl.org/bug . Make sure you are using the latest version; see  https://yt-dl.org/update  on how to update. Be sure to call youtube-dl with the --verbose flag and include its complete output.\n"
     ]
    },
    {
     "name": "stdout",
     "output_type": "stream",
     "text": [
      "[youtube] Cuqu07pnPWs: Downloading webpage\n",
      "[youtube] Cuqu07pnPWs: Downloading video info webpage\n"
     ]
    },
    {
     "name": "stderr",
     "output_type": "stream",
     "text": [
      "ERROR: Cuqu07pnPWs: \"token\" parameter not in video info for unknown reason; please report this issue on https://yt-dl.org/bug . Make sure you are using the latest version; see  https://yt-dl.org/update  on how to update. Be sure to call youtube-dl with the --verbose flag and include its complete output.\n"
     ]
    },
    {
     "name": "stdout",
     "output_type": "stream",
     "text": [
      "[youtube] td_7azDeHCU: Downloading webpage\n",
      "[youtube] td_7azDeHCU: Downloading video info webpage\n"
     ]
    },
    {
     "name": "stderr",
     "output_type": "stream",
     "text": [
      "ERROR: td_7azDeHCU: \"token\" parameter not in video info for unknown reason; please report this issue on https://yt-dl.org/bug . Make sure you are using the latest version; see  https://yt-dl.org/update  on how to update. Be sure to call youtube-dl with the --verbose flag and include its complete output.\n"
     ]
    },
    {
     "name": "stdout",
     "output_type": "stream",
     "text": [
      "[youtube] D02OgdXB6vw: Downloading webpage\n",
      "[youtube] D02OgdXB6vw: Downloading video info webpage\n"
     ]
    },
    {
     "name": "stderr",
     "output_type": "stream",
     "text": [
      "ERROR: D02OgdXB6vw: \"token\" parameter not in video info for unknown reason; please report this issue on https://yt-dl.org/bug . Make sure you are using the latest version; see  https://yt-dl.org/update  on how to update. Be sure to call youtube-dl with the --verbose flag and include its complete output.\n"
     ]
    },
    {
     "name": "stdout",
     "output_type": "stream",
     "text": [
      "[youtube] -sWSr8hrXp4: Downloading webpage\n",
      "[youtube] -sWSr8hrXp4: Downloading video info webpage\n"
     ]
    },
    {
     "name": "stderr",
     "output_type": "stream",
     "text": [
      "ERROR: -sWSr8hrXp4: \"token\" parameter not in video info for unknown reason; please report this issue on https://yt-dl.org/bug . Make sure you are using the latest version; see  https://yt-dl.org/update  on how to update. Be sure to call youtube-dl with the --verbose flag and include its complete output.\n"
     ]
    },
    {
     "name": "stdout",
     "output_type": "stream",
     "text": [
      "[youtube] myLvxCjpGAE: Downloading webpage\n",
      "[youtube] myLvxCjpGAE: Downloading video info webpage\n"
     ]
    },
    {
     "name": "stderr",
     "output_type": "stream",
     "text": [
      "ERROR: myLvxCjpGAE: \"token\" parameter not in video info for unknown reason; please report this issue on https://yt-dl.org/bug . Make sure you are using the latest version; see  https://yt-dl.org/update  on how to update. Be sure to call youtube-dl with the --verbose flag and include its complete output.\n"
     ]
    },
    {
     "name": "stdout",
     "output_type": "stream",
     "text": [
      "[youtube] 5U_37CiEHww: Downloading webpage\n",
      "[youtube] 5U_37CiEHww: Downloading video info webpage\n"
     ]
    },
    {
     "name": "stderr",
     "output_type": "stream",
     "text": [
      "ERROR: 5U_37CiEHww: \"token\" parameter not in video info for unknown reason; please report this issue on https://yt-dl.org/bug . Make sure you are using the latest version; see  https://yt-dl.org/update  on how to update. Be sure to call youtube-dl with the --verbose flag and include its complete output.\n"
     ]
    },
    {
     "name": "stdout",
     "output_type": "stream",
     "text": [
      "[youtube] SX39w9K2wHY: Downloading webpage\n",
      "[youtube] SX39w9K2wHY: Downloading video info webpage\n"
     ]
    },
    {
     "name": "stderr",
     "output_type": "stream",
     "text": [
      "ERROR: SX39w9K2wHY: \"token\" parameter not in video info for unknown reason; please report this issue on https://yt-dl.org/bug . Make sure you are using the latest version; see  https://yt-dl.org/update  on how to update. Be sure to call youtube-dl with the --verbose flag and include its complete output.\n"
     ]
    },
    {
     "name": "stdout",
     "output_type": "stream",
     "text": [
      "[youtube] 47KKNmrcxEY: Downloading webpage\n",
      "[youtube] 47KKNmrcxEY: Downloading video info webpage\n"
     ]
    },
    {
     "name": "stderr",
     "output_type": "stream",
     "text": [
      "ERROR: 47KKNmrcxEY: \"token\" parameter not in video info for unknown reason; please report this issue on https://yt-dl.org/bug . Make sure you are using the latest version; see  https://yt-dl.org/update  on how to update. Be sure to call youtube-dl with the --verbose flag and include its complete output.\n"
     ]
    },
    {
     "name": "stdout",
     "output_type": "stream",
     "text": [
      "[youtube] 1DPvVeihko0: Downloading webpage\n",
      "[youtube] 1DPvVeihko0: Downloading video info webpage\n"
     ]
    },
    {
     "name": "stderr",
     "output_type": "stream",
     "text": [
      "ERROR: 1DPvVeihko0: \"token\" parameter not in video info for unknown reason; please report this issue on https://yt-dl.org/bug . Make sure you are using the latest version; see  https://yt-dl.org/update  on how to update. Be sure to call youtube-dl with the --verbose flag and include its complete output.\n"
     ]
    },
    {
     "name": "stdout",
     "output_type": "stream",
     "text": [
      "[youtube] Q9fWl7L1m-0: Downloading webpage\n",
      "[youtube] Q9fWl7L1m-0: Downloading video info webpage\n"
     ]
    },
    {
     "name": "stderr",
     "output_type": "stream",
     "text": [
      "ERROR: Q9fWl7L1m-0: \"token\" parameter not in video info for unknown reason; please report this issue on https://yt-dl.org/bug . Make sure you are using the latest version; see  https://yt-dl.org/update  on how to update. Be sure to call youtube-dl with the --verbose flag and include its complete output.\n"
     ]
    },
    {
     "name": "stdout",
     "output_type": "stream",
     "text": [
      "['03r3PwMZUso', '4HdRojmCQxA', 'cglFhkbrh8g', 'FqhNYFQWuaM', '3PRD7ld0AUc', 'H2KBpauoDNs', 'RFUXSGZgbRg', 'tTp43eLqytA', '9e4-9LuJ89I', '_qw1nngzu8I', 'AZmImkrr9fc', '9VK1ge2LKZ4', 'zA4QCodZq9o', '5ze2kRrm9r4', '5M0wBBUi8-g', 'R0yvDmBxZbM', 'sbI-6Trfyq8', 'CC8b-u97I-k', '-T3OZDxQRx8', 'jE03-vsLQVo', 'D6DLOKfRka8', 'iHF9SaeTN7Q', 'UUOforOMk04', 'J0SM1roAHMc', '2FRt27pXoBM', 'MLqJ_njQv_U', 'cRlceSMWzE0', '2CMdPVBfm_I', '1u83qqmOHss', '8nr5jelebhA', 'JSAdRJ6BDHc', '6nYX-V5W8VQ', 'z-qbzxrFBaw', 'wESLqY2AgO4', '-16ZFtFAu8I', 'VGB8u39MDOI', 'sesHRFK3Dgg', 'ho7kNQ3n9JI', 'DNiAyPJblPc', 'b6-tMp4cHDI', 'Cuqu07pnPWs', 'td_7azDeHCU', 'D02OgdXB6vw', '-sWSr8hrXp4', 'myLvxCjpGAE', '5U_37CiEHww', 'SX39w9K2wHY', '47KKNmrcxEY', '1DPvVeihko0', 'Q9fWl7L1m-0']\n"
     ]
    }
   ],
   "source": [
    "speech_test_df = speech_df[:50]\n",
    "\n",
    "speech_fail_log = []\n",
    "\n",
    "for i in range(len(speech_test_df.index)):\n",
    "    title = speech_test_df['Speech YouTubeIDs'][i] + '.wav'  # filename\n",
    "    url = \"http://www.youtube.com/watch?v=\" + title  # URL\n",
    "\n",
    "    ydl_opts = {\n",
    "        'format': 'bestaudio/best',\n",
    "        'outtmpl': 'Untrimmed_AudioSet_WAV_files/' + title,\n",
    "        'postprocessors': [{\n",
    "            'key': 'FFmpegExtractAudio',\n",
    "            'preferredcodec': 'wav',  # WAV file\n",
    "            'preferredquality': '192',\n",
    "        }],\n",
    "    }\n",
    "    \n",
    "    try:\n",
    "        with youtube_dl.YoutubeDL(ydl_opts) as ydl:\n",
    "            ydl.download([url])\n",
    "\n",
    "        # Find the associated start_time\n",
    "        start_time = float(speech_test_df['Speech Starts'][i])\n",
    "\n",
    "        # Trim the clip\n",
    "        y, sr = librosa.load('Untrimmed_AudioSet_WAV_files/'+ title, offset=start_time, duration=10.0) # trim a 10 second segment from start_time    \n",
    "\n",
    "    #     # plot the clip - used for debugging\n",
    "    #     plt.title(title)\n",
    "    #     plt.xlabel('sample number')\n",
    "    #     plt.ylabel('Amplitude')\n",
    "    #     plt.plot(y)\n",
    "    #     plt.show()\n",
    "\n",
    "        # write a wav file of the trimmed clip\n",
    "        filepath = 'Audioset_WAV_files/Speech/' + title\n",
    "        librosa.output.write_wav(filepath, y, sr, norm=True)\n",
    "        librosa.output.write_wav(filepath, y, sr, norm=True)\n",
    "\n",
    "        \n",
    "    # if the clip is unavailable\n",
    "    except: \n",
    "        speech_fail_log.append(speech_test_df['Speech YouTubeIDs'][i])\n",
    "\n",
    "        \n",
    "print(speech_fail_log)"
   ]
  },
  {
   "cell_type": "markdown",
   "metadata": {},
   "source": [
    "## Getting all cough clips"
   ]
  },
  {
   "cell_type": "code",
   "execution_count": 7,
   "metadata": {},
   "outputs": [
    {
     "name": "stdout",
     "output_type": "stream",
     "text": [
      "[youtube] O61IKTdt2I0: Downloading webpage\n",
      "[youtube] O61IKTdt2I0: Downloading video info webpage\n",
      "[download] Destination: Untrimmed_AudioSet_WAV_files/O61IKTdt2I0.wav\n",
      "[download] 100% of 483.19KiB in 00:0003MiB/s ETA 00:000\n",
      "[ffmpeg] Post-process file Untrimmed_AudioSet_WAV_files/O61IKTdt2I0.wav exists, skipping\n",
      "[youtube] RYppdW56lfo: Downloading webpage\n",
      "[youtube] RYppdW56lfo: Downloading video info webpage\n",
      "[download] Destination: Untrimmed_AudioSet_WAV_files/RYppdW56lfo.wav\n",
      "[download] 100% of 1.73MiB in 00:0073MiB/s ETA 00:002\n",
      "[ffmpeg] Correcting container in \"Untrimmed_AudioSet_WAV_files/RYppdW56lfo.wav\"\n",
      "[ffmpeg] Post-process file Untrimmed_AudioSet_WAV_files/RYppdW56lfo.wav exists, skipping\n",
      "[youtube] quwLxxbH2Pg: Downloading webpage\n",
      "[youtube] quwLxxbH2Pg: Downloading video info webpage\n",
      "[download] Destination: Untrimmed_AudioSet_WAV_files/quwLxxbH2Pg.wav\n",
      "[download] 100% of 545.97KiB in 00:0079MiB/s ETA 00:000\n",
      "[ffmpeg] Correcting container in \"Untrimmed_AudioSet_WAV_files/quwLxxbH2Pg.wav\"\n",
      "[ffmpeg] Post-process file Untrimmed_AudioSet_WAV_files/quwLxxbH2Pg.wav exists, skipping\n",
      "[youtube] qHxgEpRG1Vs: Downloading webpage\n",
      "[youtube] qHxgEpRG1Vs: Downloading video info webpage\n",
      "[download] Destination: Untrimmed_AudioSet_WAV_files/qHxgEpRG1Vs.wav\n",
      "[download] 100% of 2.22MiB in 00:0006MiB/s ETA 00:002\n",
      "[ffmpeg] Post-process file Untrimmed_AudioSet_WAV_files/qHxgEpRG1Vs.wav exists, skipping\n",
      "[youtube] xk57B6zi6hA: Downloading webpage\n",
      "[youtube] xk57B6zi6hA: Downloading video info webpage\n",
      "[download] Destination: Untrimmed_AudioSet_WAV_files/xk57B6zi6hA.wav\n",
      "[download] 100% of 2.76MiB in 00:0081MiB/s ETA 00:003\n",
      "[ffmpeg] Post-process file Untrimmed_AudioSet_WAV_files/xk57B6zi6hA.wav exists, skipping\n",
      "[youtube] E5guDHgn7XQ: Downloading webpage\n",
      "[youtube] E5guDHgn7XQ: Downloading video info webpage\n",
      "[download] Destination: Untrimmed_AudioSet_WAV_files/E5guDHgn7XQ.wav\n",
      "[download] 100% of 921.46KiB in 00:0024MiB/s ETA 00:001\n",
      "[ffmpeg] Post-process file Untrimmed_AudioSet_WAV_files/E5guDHgn7XQ.wav exists, skipping\n",
      "[youtube] Ao0n1cqfFDw: Downloading webpage\n",
      "[youtube] Ao0n1cqfFDw: Downloading video info webpage\n",
      "[download] Destination: Untrimmed_AudioSet_WAV_files/Ao0n1cqfFDw.wav\n",
      "[download] 100% of 1.41MiB in 00:0015MiB/s ETA 00:002\n",
      "[ffmpeg] Post-process file Untrimmed_AudioSet_WAV_files/Ao0n1cqfFDw.wav exists, skipping\n",
      "[youtube] o-TJISpYLFc: Downloading webpage\n",
      "[youtube] o-TJISpYLFc: Downloading video info webpage\n",
      "[download] Destination: Untrimmed_AudioSet_WAV_files/o-TJISpYLFc.wav\n",
      "[download] 100% of 952.61KiB in 00:0076MiB/s ETA 00:001\n",
      "[ffmpeg] Post-process file Untrimmed_AudioSet_WAV_files/o-TJISpYLFc.wav exists, skipping\n",
      "[youtube] dFmT9hZ5sbA: Downloading webpage\n",
      "[youtube] dFmT9hZ5sbA: Downloading video info webpage\n",
      "[download] Destination: Untrimmed_AudioSet_WAV_files/dFmT9hZ5sbA.wav\n",
      "[download] 100% of 326.85KiB in 00:0003MiB/s ETA 00:0000\n",
      "[ffmpeg] Post-process file Untrimmed_AudioSet_WAV_files/dFmT9hZ5sbA.wav exists, skipping\n",
      "[youtube] tUUkucw-BOY: Downloading webpage\n",
      "[youtube] tUUkucw-BOY: Downloading video info webpage\n",
      "[download] Destination: Untrimmed_AudioSet_WAV_files/tUUkucw-BOY.wav\n",
      "[download] 100% of 3.44MiB in 00:0131MiB/s ETA 00:004\n",
      "[ffmpeg] Correcting container in \"Untrimmed_AudioSet_WAV_files/tUUkucw-BOY.wav\"\n",
      "[ffmpeg] Post-process file Untrimmed_AudioSet_WAV_files/tUUkucw-BOY.wav exists, skipping\n",
      "[youtube] 8ieJbzu7ql8: Downloading webpage\n",
      "[youtube] 8ieJbzu7ql8: Downloading video info webpage\n",
      "[youtube] 8ieJbzu7ql8: Downloading MPD manifest\n",
      "[dashsegments] Total fragments: 6\n",
      "[download] Destination: Untrimmed_AudioSet_WAV_files/8ieJbzu7ql8.wav\n",
      "[download] 100% of 677.33KiB in 00:043.45KiB/s ETA 00:00\n",
      "[ffmpeg] Correcting container in \"Untrimmed_AudioSet_WAV_files/8ieJbzu7ql8.wav\"\n",
      "[ffmpeg] Post-process file Untrimmed_AudioSet_WAV_files/8ieJbzu7ql8.wav exists, skipping\n",
      "[youtube] _0WKVY0n8aE: Downloading webpage\n",
      "[youtube] _0WKVY0n8aE: Downloading video info webpage\n",
      "[download] Destination: Untrimmed_AudioSet_WAV_files/_0WKVY0n8aE.wav\n",
      "[download] 100% of 2.78MiB in 00:0190MiB/s ETA 00:003\n",
      "[ffmpeg] Post-process file Untrimmed_AudioSet_WAV_files/_0WKVY0n8aE.wav exists, skipping\n",
      "[youtube] VlFNQv6fLqQ: Downloading webpage\n",
      "[youtube] VlFNQv6fLqQ: Downloading video info webpage\n",
      "[download] Destination: Untrimmed_AudioSet_WAV_files/VlFNQv6fLqQ.wav\n",
      "[download] 100% of 228.09KiB in 00:0014MiB/s ETA 00:000\n",
      "[ffmpeg] Post-process file Untrimmed_AudioSet_WAV_files/VlFNQv6fLqQ.wav exists, skipping\n",
      "[youtube] 3Liy9uBgsQM: Downloading webpage\n",
      "[youtube] 3Liy9uBgsQM: Downloading video info webpage\n",
      "[download] Destination: Untrimmed_AudioSet_WAV_files/3Liy9uBgsQM.wav\n",
      "[download] 100% of 1.59MiB in 00:0073MiB/s ETA 00:002\n",
      "[ffmpeg] Correcting container in \"Untrimmed_AudioSet_WAV_files/3Liy9uBgsQM.wav\"\n",
      "[ffmpeg] Post-process file Untrimmed_AudioSet_WAV_files/3Liy9uBgsQM.wav exists, skipping\n",
      "[youtube] bv35U83Ob1o: Downloading webpage\n",
      "[youtube] bv35U83Ob1o: Downloading video info webpage\n",
      "[download] Destination: Untrimmed_AudioSet_WAV_files/bv35U83Ob1o.wav\n",
      "[download] 100% of 1.71MiB in 00:0099MiB/s ETA 00:002\n",
      "[ffmpeg] Post-process file Untrimmed_AudioSet_WAV_files/bv35U83Ob1o.wav exists, skipping\n",
      "[youtube] RwE9JAktTvU: Downloading webpage\n",
      "[youtube] RwE9JAktTvU: Downloading video info webpage\n",
      "[download] Destination: Untrimmed_AudioSet_WAV_files/RwE9JAktTvU.wav\n",
      "[download] 100% of 8.21MiB in 00:0218MiB/s ETA 00:000\n",
      "[ffmpeg] Post-process file Untrimmed_AudioSet_WAV_files/RwE9JAktTvU.wav exists, skipping\n",
      "[youtube] aJdyPN00-bM: Downloading webpage\n",
      "[youtube] aJdyPN00-bM: Downloading video info webpage\n",
      "[download] Destination: Untrimmed_AudioSet_WAV_files/aJdyPN00-bM.wav\n",
      "[download] 100% of 163.86KiB in 00:0059MiB/s ETA 00:000\n",
      "[ffmpeg] Correcting container in \"Untrimmed_AudioSet_WAV_files/aJdyPN00-bM.wav\"\n",
      "[ffmpeg] Post-process file Untrimmed_AudioSet_WAV_files/aJdyPN00-bM.wav exists, skipping\n",
      "[youtube] TA-iHSeEUYk: Downloading webpage\n",
      "[youtube] TA-iHSeEUYk: Downloading video info webpage\n",
      "[download] Destination: Untrimmed_AudioSet_WAV_files/TA-iHSeEUYk.wav\n",
      "[download] 100% of 1.96MiB in 00:0058MiB/s ETA 00:002\n",
      "[ffmpeg] Correcting container in \"Untrimmed_AudioSet_WAV_files/TA-iHSeEUYk.wav\"\n",
      "[ffmpeg] Post-process file Untrimmed_AudioSet_WAV_files/TA-iHSeEUYk.wav exists, skipping\n",
      "[youtube] oGf-eDCiQfg: Downloading webpage\n",
      "[youtube] oGf-eDCiQfg: Downloading video info webpage\n",
      "[download] Destination: Untrimmed_AudioSet_WAV_files/oGf-eDCiQfg.wav\n",
      "[download] 100% of 1.34MiB in 00:0051MiB/s ETA 00:002\n",
      "[ffmpeg] Post-process file Untrimmed_AudioSet_WAV_files/oGf-eDCiQfg.wav exists, skipping\n",
      "[youtube] X8yUSV4oqoU: Downloading webpage\n",
      "[youtube] X8yUSV4oqoU: Downloading video info webpage\n",
      "[download] Destination: Untrimmed_AudioSet_WAV_files/X8yUSV4oqoU.wav\n",
      "[download] 100% of 1.96MiB in 00:0066MiB/s ETA 00:002\n",
      "[ffmpeg] Post-process file Untrimmed_AudioSet_WAV_files/X8yUSV4oqoU.wav exists, skipping\n",
      "[youtube] sUFGh7zp9D0: Downloading webpage\n",
      "[youtube] sUFGh7zp9D0: Downloading video info webpage\n",
      "[download] Destination: Untrimmed_AudioSet_WAV_files/sUFGh7zp9D0.wav\n",
      "[download] 100% of 6.54MiB in 00:0228MiB/s ETA 00:008\n",
      "[ffmpeg] Post-process file Untrimmed_AudioSet_WAV_files/sUFGh7zp9D0.wav exists, skipping\n",
      "[youtube] HEKKh5yZ1s8: Downloading webpage\n",
      "[youtube] HEKKh5yZ1s8: Downloading video info webpage\n",
      "[download] Destination: Untrimmed_AudioSet_WAV_files/HEKKh5yZ1s8.wav\n",
      "[download] 100% of 6.74MiB in 00:0254MiB/s ETA 00:008\n",
      "[ffmpeg] Post-process file Untrimmed_AudioSet_WAV_files/HEKKh5yZ1s8.wav exists, skipping\n",
      "[youtube] GzdmC_MiIyg: Downloading webpage\n",
      "[youtube] GzdmC_MiIyg: Downloading video info webpage\n",
      "[download] Destination: Untrimmed_AudioSet_WAV_files/GzdmC_MiIyg.wav\n",
      "[download] 100% of 1.18MiB in 00:02.87KiB/s ETA 00:00\n",
      "[ffmpeg] Correcting container in \"Untrimmed_AudioSet_WAV_files/GzdmC_MiIyg.wav\"\n",
      "[ffmpeg] Post-process file Untrimmed_AudioSet_WAV_files/GzdmC_MiIyg.wav exists, skipping\n",
      "[youtube] Z459PzdNuCU: Downloading webpage\n",
      "[youtube] Z459PzdNuCU: Downloading video info webpage\n",
      "[download] Destination: Untrimmed_AudioSet_WAV_files/Z459PzdNuCU.wav\n",
      "[download] 100% of 5.38MiB in 00:0181MiB/s ETA 00:005\n",
      "[ffmpeg] Post-process file Untrimmed_AudioSet_WAV_files/Z459PzdNuCU.wav exists, skipping\n",
      "[youtube] xCRumdDLFj0: Downloading webpage\n"
     ]
    },
    {
     "name": "stdout",
     "output_type": "stream",
     "text": [
      "[youtube] xCRumdDLFj0: Downloading video info webpage\n",
      "[download] Destination: Untrimmed_AudioSet_WAV_files/xCRumdDLFj0.wav\n",
      "[download] 100% of 1.70MiB in 00:0117MiB/s ETA 00:001\n",
      "[ffmpeg] Correcting container in \"Untrimmed_AudioSet_WAV_files/xCRumdDLFj0.wav\"\n",
      "[ffmpeg] Post-process file Untrimmed_AudioSet_WAV_files/xCRumdDLFj0.wav exists, skipping\n",
      "[youtube] 3id3zRRZBVM: Downloading webpage\n",
      "[youtube] 3id3zRRZBVM: Downloading video info webpage\n",
      "[download] Destination: Untrimmed_AudioSet_WAV_files/3id3zRRZBVM.wav\n",
      "[download] 100% of 2.07MiB in 00:02.78KiB/s ETA 00:00\n",
      "[ffmpeg] Correcting container in \"Untrimmed_AudioSet_WAV_files/3id3zRRZBVM.wav\"\n",
      "[ffmpeg] Post-process file Untrimmed_AudioSet_WAV_files/3id3zRRZBVM.wav exists, skipping\n",
      "[youtube] VzVjieAgz7Y: Downloading webpage\n",
      "[youtube] VzVjieAgz7Y: Downloading video info webpage\n",
      "[download] Destination: Untrimmed_AudioSet_WAV_files/VzVjieAgz7Y.wav\n",
      "[download] 100% of 1.74MiB in 00:0038MiB/s ETA 00:002\n",
      "[ffmpeg] Post-process file Untrimmed_AudioSet_WAV_files/VzVjieAgz7Y.wav exists, skipping\n",
      "[youtube] -vu4jJkffMw: Downloading webpage\n",
      "[youtube] -vu4jJkffMw: Downloading video info webpage\n",
      "[download] Destination: Untrimmed_AudioSet_WAV_files/-vu4jJkffMw.wav\n",
      "[download] 100% of 2.16MiB in 00:0042MiB/s ETA 00:002\n",
      "[ffmpeg] Post-process file Untrimmed_AudioSet_WAV_files/-vu4jJkffMw.wav exists, skipping\n",
      "[youtube] txVBnPl9KPM: Downloading webpage\n",
      "[youtube] txVBnPl9KPM: Downloading video info webpage\n",
      "[download] Destination: Untrimmed_AudioSet_WAV_files/txVBnPl9KPM.wav\n",
      "[download] 100% of 357.95KiB in 00:0025MiB/s ETA 00:000\n",
      "[ffmpeg] Correcting container in \"Untrimmed_AudioSet_WAV_files/txVBnPl9KPM.wav\"\n",
      "[ffmpeg] Post-process file Untrimmed_AudioSet_WAV_files/txVBnPl9KPM.wav exists, skipping\n",
      "[youtube] rDGQN3dsgz4: Downloading webpage\n",
      "[youtube] rDGQN3dsgz4: Downloading video info webpage\n"
     ]
    },
    {
     "name": "stderr",
     "output_type": "stream",
     "text": [
      "WARNING: Unable to extract video title\n",
      "ERROR: This video is unavailable.\n"
     ]
    },
    {
     "name": "stdout",
     "output_type": "stream",
     "text": [
      "[youtube] cl5Bt-rqtZ4: Downloading webpage\n",
      "[youtube] cl5Bt-rqtZ4: Downloading video info webpage\n",
      "[youtube] cl5Bt-rqtZ4: Downloading MPD manifest\n",
      "[dashsegments] Total fragments: 8\n",
      "[download] Destination: Untrimmed_AudioSet_WAV_files/cl5Bt-rqtZ4.wav\n",
      "[download] 100% of 799.38KiB in 00:01.33MiB/s ETA 00:000\n",
      "[ffmpeg] Correcting container in \"Untrimmed_AudioSet_WAV_files/cl5Bt-rqtZ4.wav\"\n",
      "[ffmpeg] Post-process file Untrimmed_AudioSet_WAV_files/cl5Bt-rqtZ4.wav exists, skipping\n",
      "[youtube] jMyY06bjVRA: Downloading webpage\n",
      "[youtube] jMyY06bjVRA: Downloading video info webpage\n",
      "[download] Destination: Untrimmed_AudioSet_WAV_files/jMyY06bjVRA.wav\n",
      "[download] 100% of 2.09MiB in 00:0051MiB/s ETA 00:002\n",
      "[ffmpeg] Post-process file Untrimmed_AudioSet_WAV_files/jMyY06bjVRA.wav exists, skipping\n",
      "[youtube] 89ZJ46zuxRY: Downloading webpage\n",
      "[youtube] 89ZJ46zuxRY: Downloading video info webpage\n",
      "[download] Destination: Untrimmed_AudioSet_WAV_files/89ZJ46zuxRY.wav\n",
      "[download] 100% of 1.10MiB in 00:0071MiB/s ETA 00:000\n",
      "[ffmpeg] Correcting container in \"Untrimmed_AudioSet_WAV_files/89ZJ46zuxRY.wav\"\n",
      "[ffmpeg] Post-process file Untrimmed_AudioSet_WAV_files/89ZJ46zuxRY.wav exists, skipping\n",
      "[youtube] sNCKIJFUj5I: Downloading webpage\n",
      "[youtube] sNCKIJFUj5I: Downloading video info webpage\n",
      "[download] Destination: Untrimmed_AudioSet_WAV_files/sNCKIJFUj5I.wav\n",
      "[download] 100% of 2.69MiB in 00:0153MiB/s ETA 00:0002\n",
      "[ffmpeg] Correcting container in \"Untrimmed_AudioSet_WAV_files/sNCKIJFUj5I.wav\"\n",
      "[ffmpeg] Post-process file Untrimmed_AudioSet_WAV_files/sNCKIJFUj5I.wav exists, skipping\n",
      "[youtube] vIBtwK5mH5Q: Downloading webpage\n",
      "[youtube] vIBtwK5mH5Q: Downloading video info webpage\n"
     ]
    },
    {
     "name": "stderr",
     "output_type": "stream",
     "text": [
      "WARNING: Unable to extract video title\n",
      "ERROR: This video has been removed for violating YouTube's Terms of Service.\n"
     ]
    },
    {
     "name": "stdout",
     "output_type": "stream",
     "text": [
      "[youtube] s77vdz6Xnj8: Downloading webpage\n",
      "[youtube] s77vdz6Xnj8: Downloading video info webpage\n"
     ]
    },
    {
     "name": "stderr",
     "output_type": "stream",
     "text": [
      "WARNING: Unable to extract video title\n",
      "ERROR: This video is unavailable.\n"
     ]
    },
    {
     "name": "stdout",
     "output_type": "stream",
     "text": [
      "[youtube] 6iz8Jk8Hvwg: Downloading webpage\n",
      "[youtube] 6iz8Jk8Hvwg: Downloading video info webpage\n"
     ]
    },
    {
     "name": "stderr",
     "output_type": "stream",
     "text": [
      "WARNING: Unable to extract video title\n",
      "ERROR: This video has been removed by the user\n"
     ]
    },
    {
     "name": "stdout",
     "output_type": "stream",
     "text": [
      "[youtube] 6nTcsNoIGDw: Downloading webpage\n",
      "[youtube] 6nTcsNoIGDw: Downloading video info webpage\n",
      "[download] Destination: Untrimmed_AudioSet_WAV_files/6nTcsNoIGDw.wav\n",
      "[download] 100% of 1.33MiB in 00:0157MiB/s ETA 00:000\n",
      "[ffmpeg] Correcting container in \"Untrimmed_AudioSet_WAV_files/6nTcsNoIGDw.wav\"\n",
      "[ffmpeg] Post-process file Untrimmed_AudioSet_WAV_files/6nTcsNoIGDw.wav exists, skipping\n",
      "[youtube] RWCSzp1zU8A: Downloading webpage\n",
      "[youtube] RWCSzp1zU8A: Downloading video info webpage\n",
      "[download] Destination: Untrimmed_AudioSet_WAV_files/RWCSzp1zU8A.wav\n",
      "[download] 100% of 1.68MiB in 00:0162MiB/s ETA 00:001\n",
      "[ffmpeg] Post-process file Untrimmed_AudioSet_WAV_files/RWCSzp1zU8A.wav exists, skipping\n",
      "[youtube] qOSdHmfwLF4: Downloading webpage\n",
      "[youtube] qOSdHmfwLF4: Downloading video info webpage\n",
      "[download] Destination: Untrimmed_AudioSet_WAV_files/qOSdHmfwLF4.wav\n",
      "[download] 100% of 2.14MiB in 00:0181MiB/s ETA 00:002\n",
      "[ffmpeg] Post-process file Untrimmed_AudioSet_WAV_files/qOSdHmfwLF4.wav exists, skipping\n",
      "[youtube] BR6UqPUqYsQ: Downloading webpage\n",
      "[youtube] BR6UqPUqYsQ: Downloading video info webpage\n",
      "[download] Destination: Untrimmed_AudioSet_WAV_files/BR6UqPUqYsQ.wav\n",
      "[download] 100% of 1.33MiB in 00:0142MiB/s ETA 00:001\n",
      "[ffmpeg] Post-process file Untrimmed_AudioSet_WAV_files/BR6UqPUqYsQ.wav exists, skipping\n",
      "[youtube] 9KNqsONT3-Y: Downloading webpage\n",
      "[youtube] 9KNqsONT3-Y: Downloading video info webpage\n",
      "[download] Destination: Untrimmed_AudioSet_WAV_files/9KNqsONT3-Y.wav\n",
      "[download] 100% of 1.38MiB in 00:0055MiB/s ETA 00:001\n",
      "[ffmpeg] Post-process file Untrimmed_AudioSet_WAV_files/9KNqsONT3-Y.wav exists, skipping\n",
      "[youtube] GXLEKU6K1uI: Downloading webpage\n",
      "[youtube] GXLEKU6K1uI: Downloading video info webpage\n",
      "[download] Destination: Untrimmed_AudioSet_WAV_files/GXLEKU6K1uI.wav\n",
      "[download] 100% of 1.32MiB in 00:0067MiB/s ETA 00:001\n",
      "[ffmpeg] Post-process file Untrimmed_AudioSet_WAV_files/GXLEKU6K1uI.wav exists, skipping\n",
      "[youtube] k_0J26cnYpw: Downloading webpage\n",
      "[youtube] k_0J26cnYpw: Downloading video info webpage\n",
      "[download] Destination: Untrimmed_AudioSet_WAV_files/k_0J26cnYpw.wav\n",
      "[download] 100% of 981.29KiB in 00:0076MiB/s ETA 00:001\n",
      "[ffmpeg] Post-process file Untrimmed_AudioSet_WAV_files/k_0J26cnYpw.wav exists, skipping\n",
      "[youtube] nL3LUxrWEpA: Downloading webpage\n",
      "[youtube] nL3LUxrWEpA: Downloading video info webpage\n",
      "[download] Destination: Untrimmed_AudioSet_WAV_files/nL3LUxrWEpA.wav\n",
      "[download] 100% of 7.44MiB in 00:0020MiB/s ETA 00:007\n",
      "[ffmpeg] Correcting container in \"Untrimmed_AudioSet_WAV_files/nL3LUxrWEpA.wav\"\n",
      "[ffmpeg] Post-process file Untrimmed_AudioSet_WAV_files/nL3LUxrWEpA.wav exists, skipping\n",
      "[youtube] 1MSYO4wgiag: Downloading webpage\n",
      "[youtube] 1MSYO4wgiag: Downloading video info webpage\n",
      "[download] Destination: Untrimmed_AudioSet_WAV_files/1MSYO4wgiag.wav\n",
      "[download] 100% of 2.21MiB in 00:0021MiB/s ETA 00:002\n",
      "[ffmpeg] Post-process file Untrimmed_AudioSet_WAV_files/1MSYO4wgiag.wav exists, skipping\n",
      "[youtube] qj-s6ZcgytA: Downloading webpage\n",
      "[youtube] qj-s6ZcgytA: Downloading video info webpage\n",
      "[download] Destination: Untrimmed_AudioSet_WAV_files/qj-s6ZcgytA.wav\n",
      "[download] 100% of 3.27MiB in 00:0026MiB/s ETA 00:005\n",
      "[ffmpeg] Correcting container in \"Untrimmed_AudioSet_WAV_files/qj-s6ZcgytA.wav\"\n",
      "[ffmpeg] Post-process file Untrimmed_AudioSet_WAV_files/qj-s6ZcgytA.wav exists, skipping\n",
      "[youtube] 4txOUgXllWE: Downloading webpage\n",
      "[youtube] 4txOUgXllWE: Downloading embed webpage\n",
      "[youtube] 4txOUgXllWE: Refetching age-gated info webpage\n",
      "[download] Destination: Untrimmed_AudioSet_WAV_files/4txOUgXllWE.wav\n",
      "[download] 100% of 5.08MiB in 00:0000MiB/s ETA 00:006\n",
      "[ffmpeg] Correcting container in \"Untrimmed_AudioSet_WAV_files/4txOUgXllWE.wav\"\n",
      "[ffmpeg] Post-process file Untrimmed_AudioSet_WAV_files/4txOUgXllWE.wav exists, skipping\n",
      "[youtube] EksYlo1IXU0: Downloading webpage\n",
      "[youtube] EksYlo1IXU0: Downloading video info webpage\n",
      "[download] Destination: Untrimmed_AudioSet_WAV_files/EksYlo1IXU0.wav\n",
      "[download] 100% of 7.34MiB in 00:0284MiB/s ETA 00:003\n",
      "[ffmpeg] Correcting container in \"Untrimmed_AudioSet_WAV_files/EksYlo1IXU0.wav\"\n",
      "[ffmpeg] Post-process file Untrimmed_AudioSet_WAV_files/EksYlo1IXU0.wav exists, skipping\n",
      "[youtube] vA-eGyCdVBE: Downloading webpage\n",
      "[youtube] vA-eGyCdVBE: Downloading video info webpage\n",
      "[download] Destination: Untrimmed_AudioSet_WAV_files/vA-eGyCdVBE.wav\n",
      "[download] 100% of 1003.51KiB in 00:02.09KiB/s ETA 00:00\n",
      "[ffmpeg] Correcting container in \"Untrimmed_AudioSet_WAV_files/vA-eGyCdVBE.wav\"\n",
      "[ffmpeg] Post-process file Untrimmed_AudioSet_WAV_files/vA-eGyCdVBE.wav exists, skipping\n",
      "['rDGQN3dsgz4', 'vIBtwK5mH5Q', 's77vdz6Xnj8', '6iz8Jk8Hvwg']\n"
     ]
    }
   ],
   "source": [
    "coughs_test_df = cough_df[:50]\n",
    "\n",
    "coughs_fail_log = []\n",
    "\n",
    "for i in range(len(coughs_test_df.index)):\n",
    "    title = coughs_test_df['Coughs YouTubeIDs'][i] + '.wav'  # filename\n",
    "    url = \"http://www.youtube.com/watch?v=\" + title  # URL\n",
    "\n",
    "    ydl_opts = {\n",
    "        'format': 'bestaudio/best',\n",
    "        'outtmpl': 'Untrimmed_AudioSet_WAV_files/' + title,\n",
    "        'postprocessors': [{\n",
    "            'key': 'FFmpegExtractAudio',\n",
    "            'preferredcodec': 'wav',  # WAV file\n",
    "            'preferredquality': '192',\n",
    "        }],\n",
    "    }\n",
    "    \n",
    "    # if clip is unavailable\n",
    "    # if clip is longer than X skip\n",
    "    try:\n",
    "        with youtube_dl.YoutubeDL(ydl_opts) as ydl:\n",
    "            ydl.download([url])\n",
    "        # Find the associated start_time\n",
    "        start_time = float(coughs_test_df['Coughs Starts'][i])\n",
    "\n",
    "\n",
    "        # Trim the clip\n",
    "        y, sr = librosa.load('Untrimmed_AudioSet_WAV_files/' + title, offset=start_time, duration=10.0) # trim a 10 second segment from start_time    \n",
    "\n",
    "    #     # plot the clip - used for debugging\n",
    "    #     plt.title(title)\n",
    "    #     plt.xlabel('sample number')\n",
    "    #     plt.ylabel('Amplitude')\n",
    "    #     plt.plot(y)\n",
    "    #     plt.show()\n",
    "\n",
    "        # if the clip is 10 seconds long\n",
    "        if len(y) == 10:\n",
    "    \n",
    "            # write over orginal file with the 10 second clip\n",
    "            filepath = 'Audioset_WAV_files/Coughs/' + title\n",
    "            librosa.output.write_wav(filepath, y, sr, norm=True)\n",
    "            librosa.output.write_wav(filepath, y, sr, norm=True)\n",
    "\n",
    "    # if clip is unavailable\n",
    "    except: \n",
    "        coughs_fail_log.append(coughs_test_df['Coughs YouTubeIDs'][i])\n",
    "        # create an error log\n",
    "\n",
    "print(coughs_fail_log)"
   ]
  },
  {
   "cell_type": "markdown",
   "metadata": {},
   "source": [
    "## Check number of clips after downloading\n",
    "Some clips were lost due to failed downloads. The two datagroups need to be evened out."
   ]
  },
  {
   "cell_type": "code",
   "execution_count": 8,
   "metadata": {},
   "outputs": [
    {
     "name": "stdout",
     "output_type": "stream",
     "text": [
      "Unedited number of cough clips: 46\n",
      "Unedited number of speech clips: 48\n",
      "['ATkiruac-y4.wav', 'o80gIVpvsPM.wav']\n",
      "Unedited number of cough clips: 46\n",
      "Unedited number of speech clips: 46\n"
     ]
    }
   ],
   "source": [
    "# Check number of clips in each folder\n",
    "coughs_count=0\n",
    "for files in os.listdir(\"Audioset_WAV_files/Coughs/\"):\n",
    "    if files.endswith('.wav'):\n",
    "        coughs_count+=1\n",
    "print(\"Unedited number of cough clips:\", coughs_count)\n",
    "\n",
    "\n",
    "speech_count=0\n",
    "for files in os.listdir(\"Audioset_WAV_files/Speech/\"):\n",
    "    if files.endswith('.wav'):\n",
    "        speech_count+=1\n",
    "print(\"Unedited number of speech clips:\", speech_count)\n",
    "\n",
    "# Remove additional clips to even out the size\n",
    "values = {\"Coughs\": coughs_count, \"Speech\": speech_count}\n",
    "largest = max(values, key=values.get)  # find which group has more clips\n",
    "difference = (abs(coughs_count - speech_count))  # how many clips should be removed\n",
    "\n",
    "# find names of clips to be removed\n",
    "f = []\n",
    "for (dirpath, dirnames, filenames) in os.walk(\"Audioset_WAV_files/\"+ largest + '/'):\n",
    "    f.extend(filenames)\n",
    "    break\n",
    "\n",
    "shuffle(f)\n",
    "\n",
    "clips_to_remove = f[:difference]\n",
    "print(clips_to_remove)\n",
    "\n",
    "for clip in clips_to_remove:\n",
    "    os.remove(\"Audioset_WAV_files/\"+ largest + '/' + clip)\n",
    "\n",
    "# Check it has worked\n",
    "coughs_count=0\n",
    "for files in os.listdir(\"Audioset_WAV_files/Coughs/\"):\n",
    "    if files.endswith('.wav'):\n",
    "        coughs_count+=1\n",
    "print(\"Unedited number of cough clips:\", coughs_count)\n",
    "\n",
    "\n",
    "speech_count=0\n",
    "for files in os.listdir(\"Audioset_WAV_files/Speech/\"):\n",
    "    if files.endswith('.wav'):\n",
    "        speech_count+=1\n",
    "print(\"Unedited number of speech clips:\", speech_count)"
   ]
  },
  {
   "cell_type": "markdown",
   "metadata": {},
   "source": [
    "# Save YouTube IDs of final clip selections"
   ]
  },
  {
   "cell_type": "code",
   "execution_count": 9,
   "metadata": {},
   "outputs": [
    {
     "name": "stdout",
     "output_type": "stream",
     "text": [
      "3Liy9uBgsQM.wav\n",
      "xk57B6zi6hA.wav\n",
      "txVBnPl9KPM.wav\n",
      "GXLEKU6K1uI.wav\n",
      "GzdmC_MiIyg.wav\n",
      "qHxgEpRG1Vs.wav\n",
      "BR6UqPUqYsQ.wav\n",
      "_0WKVY0n8aE.wav\n",
      "k_0J26cnYpw.wav\n",
      "bv35U83Ob1o.wav\n",
      "8ieJbzu7ql8.wav\n",
      "RYppdW56lfo.wav\n",
      "VlFNQv6fLqQ.wav\n",
      "qj-s6ZcgytA.wav\n",
      "HEKKh5yZ1s8.wav\n",
      "E5guDHgn7XQ.wav\n",
      "Z459PzdNuCU.wav\n",
      "tUUkucw-BOY.wav\n",
      "jMyY06bjVRA.wav\n",
      "89ZJ46zuxRY.wav\n",
      "vA-eGyCdVBE.wav\n",
      "quwLxxbH2Pg.wav\n",
      "qOSdHmfwLF4.wav\n",
      "dFmT9hZ5sbA.wav\n",
      "oGf-eDCiQfg.wav\n",
      "-vu4jJkffMw.wav\n",
      "nL3LUxrWEpA.wav\n",
      "4txOUgXllWE.wav\n",
      "EksYlo1IXU0.wav\n",
      "3id3zRRZBVM.wav\n",
      "1MSYO4wgiag.wav\n",
      "aJdyPN00-bM.wav\n",
      "X8yUSV4oqoU.wav\n",
      "RwE9JAktTvU.wav\n",
      "O61IKTdt2I0.wav\n",
      "RWCSzp1zU8A.wav\n",
      "TA-iHSeEUYk.wav\n",
      "6nTcsNoIGDw.wav\n",
      "Ao0n1cqfFDw.wav\n",
      "sNCKIJFUj5I.wav\n",
      "VzVjieAgz7Y.wav\n",
      "sUFGh7zp9D0.wav\n",
      "9KNqsONT3-Y.wav\n",
      "cl5Bt-rqtZ4.wav\n",
      "o-TJISpYLFc.wav\n",
      "xCRumdDLFj0.wav\n",
      "5l8Y4twyb6c.wav\n",
      "GwXzQvqmgQg.wav\n",
      "OG_aj0e2gCg.wav\n",
      "ogDl7PHyyhE.wav\n",
      "0sLzEXwCV50.wav\n",
      "h1QxG72W3g0.wav\n",
      "brsMKP0yP8I.wav\n",
      "uFMH9z6DMIE.wav\n",
      "Cf02eu2D_Hs.wav\n",
      "1w979JoVyXM.wav\n",
      "4NtspP5IbfI.wav\n",
      "DVhN2nJSoi0.wav\n",
      "V44Qc-TpuIE.wav\n",
      "6KL1ZzMv7fw.wav\n",
      "Icv0XlAuBGo.wav\n",
      "NkwMxUW-Kds.wav\n",
      "Cma9PIQjd0g.wav\n",
      "IqkO1-vQwjU.wav\n",
      "QVUn9VPburE.wav\n",
      "vsPf6n0HSA8.wav\n",
      "QEQJDOxTSUQ.wav\n",
      "x-mgo5sWa4E.wav\n",
      "TGD-BriYDm4.wav\n",
      "z67ie5IhMtU.wav\n",
      "BmaJagrZoeM.wav\n",
      "cTc9kM0oN3Y.wav\n",
      "YieSeZKERus.wav\n",
      "QAuLVVjN3cI.wav\n",
      "x9zV4VGmuBI.wav\n",
      "iFnbUjacxlU.wav\n",
      "SC-MCEqtSHc.wav\n",
      "_gBfwlzmcxI.wav\n",
      "3IAQtwMWMwM.wav\n",
      "aG3IrE5X43c.wav\n",
      "7jvf2fwhkXY.wav\n",
      "YHfe-pFhfT4.wav\n",
      "e4v2-86qQh8.wav\n",
      "4wEqOLNZiJU.wav\n",
      "6q3FwDLGA0g.wav\n",
      "1jQW69fxTW0.wav\n",
      "bJjYBAwglxM.wav\n",
      "4E0Kicq90NM.wav\n",
      "0c0_nGXq5n4.wav\n",
      "AYaN9NqpVA0.wav\n",
      "7R6Hzrp1Ul8.wav\n",
      "obahqOGbA4U.wav\n"
     ]
    }
   ],
   "source": [
    "# get filename of every file in both directories\n",
    "# write to CSV  selected_YouTubeIDs\n",
    "\n",
    "coughs_clips = [\"Coughs\"]\n",
    "for files in os.listdir(\"Audioset_WAV_files/Coughs/\"):\n",
    "    if files.endswith('.wav'):\n",
    "        coughs_clips.append(files)\n",
    "        print(files)\n",
    "\n",
    "speech_clips = [\"Speech\"]\n",
    "for files in os.listdir(\"Audioset_WAV_files/Speech/\"):\n",
    "    if files.endswith('.wav'):\n",
    "        speech_clips.append(files)\n",
    "        print(files)\n",
    "\n",
    "csvData = zip(coughs_clips, speech_clips)      \n",
    "with open('selected_YouTubeIDs.csv', 'w') as csvFile:\n",
    "    writer = csv.writer(csvFile)\n",
    "    writer.writerows(csvData)"
   ]
  },
  {
   "cell_type": "code",
   "execution_count": 1,
   "metadata": {},
   "outputs": [
    {
     "ename": "NameError",
     "evalue": "name 'y' is not defined",
     "output_type": "error",
     "traceback": [
      "\u001b[0;31m---------------------------------------------------------------------------\u001b[0m",
      "\u001b[0;31mNameError\u001b[0m                                 Traceback (most recent call last)",
      "\u001b[0;32m<ipython-input-1-d9183e048de3>\u001b[0m in \u001b[0;36m<module>\u001b[0;34m\u001b[0m\n\u001b[0;32m----> 1\u001b[0;31m \u001b[0mprint\u001b[0m\u001b[0;34m(\u001b[0m\u001b[0my\u001b[0m\u001b[0;34m)\u001b[0m\u001b[0;34m\u001b[0m\u001b[0;34m\u001b[0m\u001b[0m\n\u001b[0m",
      "\u001b[0;31mNameError\u001b[0m: name 'y' is not defined"
     ]
    }
   ],
   "source": [
    "print(y)"
   ]
  },
  {
   "cell_type": "code",
   "execution_count": null,
   "metadata": {},
   "outputs": [],
   "source": []
  }
 ],
 "metadata": {
  "kernelspec": {
   "display_name": "Python 3",
   "language": "python",
   "name": "python3"
  },
  "language_info": {
   "codemirror_mode": {
    "name": "ipython",
    "version": 3
   },
   "file_extension": ".py",
   "mimetype": "text/x-python",
   "name": "python",
   "nbconvert_exporter": "python",
   "pygments_lexer": "ipython3",
   "version": "3.6.7"
  }
 },
 "nbformat": 4,
 "nbformat_minor": 2
}
