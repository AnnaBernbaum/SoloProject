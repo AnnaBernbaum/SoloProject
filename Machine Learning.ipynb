{
 "cells": [
  {
   "cell_type": "markdown",
   "metadata": {},
   "source": [
    "# Machine Learning\n",
    "## Anna Bernbaum\n",
    "## April 2019\n"
   ]
  },
  {
   "cell_type": "markdown",
   "metadata": {},
   "source": [
    "The audio clips have been downloaded using `Downloading Google Audioset clips.ipynb` into a directory structure as shown below:\n",
    "\n",
    "`|-- AudioSet_WAV_files\n",
    "    |-- Coughs\n",
    "    |-- Speech`\n",
    "    \n",
    "Coughs and Speech both contain the same number of audio clips. Most are 10 seconds long but not all.\n",
    "\n",
    "Remaining concerns:\n",
    "- Some clips have trailing silence that could be trimmed\n",
    "- Is it an issue that clips are different lengths?\n",
    "- Many clips contain audible noises as well as coughing/speech. These are likely labelled with multiple tags. Shouls these be removed?\n",
    "- Clips are different lengths, a few are shorter than 10 seconds - this could become a problem\n",
    "- mel-spectrograms v normal spectrograms\n",
    "- Should I trim off the higher frequencies?\n",
    "- What layers should i use?\n",
    "- Should i do one-hot encoding"
   ]
  },
  {
   "cell_type": "code",
   "execution_count": 1,
   "metadata": {},
   "outputs": [
    {
     "name": "stderr",
     "output_type": "stream",
     "text": [
      "Using TensorFlow backend.\n"
     ]
    }
   ],
   "source": [
    "import tensorflow as tf\n",
    "import keras\n",
    "import kapre\n",
    "from kapre.time_frequency import Spectrogram, Melspectrogram\n",
    "import numpy as np\n",
    "%matplotlib inline\n",
    "import matplotlib.pyplot as plt\n",
    "plt.style.use('ggplot')\n",
    "\n",
    "from datetime import datetime\n",
    "now = datetime.now()\n",
    "\n",
    "import librosa\n",
    "from librosa import display\n",
    "import os\n",
    "from sklearn import metrics\n",
    "import itertools\n"
   ]
  },
  {
   "cell_type": "markdown",
   "metadata": {},
   "source": [
    "# Generating Spectrograms"
   ]
  },
  {
   "cell_type": "markdown",
   "metadata": {},
   "source": [
    "### Helper functions"
   ]
  },
  {
   "cell_type": "code",
   "execution_count": 2,
   "metadata": {},
   "outputs": [],
   "source": [
    "# function to print system information\n",
    "def print_info():\n",
    "    print('%s/%s/%s' % (now.year, now.month, now.day))\n",
    "    print('librosa version: {}'.format(librosa.__version__))\n",
    "    print('Keras version: {}'.format(keras.__version__))\n",
    "    if keras.backend._BACKEND == 'tensorflow':\n",
    "        import tensorflow\n",
    "        print('Keras backend: {}: {}'.format(keras.backend._backend, tensorflow.__version__))\n",
    "    elif keras.backend._BACKEND == 'theano':\n",
    "        import theano\n",
    "        print('Keras backend: {}: {}'.format(keras.backend._backend, theano.__version__))\n",
    "    print('Keras image data format: {}'.format(keras.backend.image_data_format()))\n",
    "    print('Kapre version: {}'.format(kapre.__version__))\n",
    "    print('\\nSampling rate: {} Hz'.format(SR))\n",
    "\n",
    "# function to compile and fit the model\n",
    "def check_model(model):\n",
    "    model.summary(line_length=80, positions=[.33, .65, .8, 1.])\n",
    "\n",
    "    batch_input_shape = (6,) + model.input_shape[1:]\n",
    "    batch_output_shape = (6,) + model.output_shape[1:]\n",
    "    model.compile(optimizer='sgd', loss='mse')  # Stochastic gradient descent optimizer, mean squared error loss function\n",
    "    \n",
    "    # train the model:\n",
    "    model.fit(np.random.uniform(size=batch_input_shape), np.random.uniform(size=batch_output_shape), epochs=1)\n",
    "\n",
    "# function to plot spectrogram\n",
    "def visualise_model(model, logam=False):\n",
    "    n_ch, nsp_src = model.input_shape[1:]\n",
    "    src, _ = librosa.load('../SoloProject/AudioSet_WAV_files/Coughs/_0WKVY0n8aE.wav', sr=SR, mono=True)\n",
    "    print(\"original:\", src.shape)\n",
    "    src = src[:nsp_src]  # making the clip the specified length\n",
    "    print(\"trimmed:\", src.shape)\n",
    "    src_batch = src[np.newaxis, np.newaxis, :]\n",
    "    print(\"trimmed again:\", src_batch.shape)\n",
    "    \n",
    "    pred = model.predict(x=src_batch)\n",
    "    \n",
    "    if keras.backend.image_data_format == 'channels_first':\n",
    "        result = pred[0, 0]\n",
    "    else:\n",
    "        result = pred[0, :, :, 0]\n",
    "    \n",
    "    if logam:\n",
    "        result = librosa.power_to_db(result)\n",
    "    display.specshow(result, \n",
    "                     y_axis='linear', sr=SR)    "
   ]
  },
  {
   "cell_type": "markdown",
   "metadata": {},
   "source": [
    "### Generating the spectrograms as part of the model"
   ]
  },
  {
   "cell_type": "code",
   "execution_count": 3,
   "metadata": {},
   "outputs": [
    {
     "ename": "FileNotFoundError",
     "evalue": "[Errno 2] No such file or directory: '/Users/annabernbaum/Documents/GitHub/SoloProject/AudioSet_WAV_files/Coughs/_0WKVY0n8aE.wav'",
     "output_type": "error",
     "traceback": [
      "\u001b[0;31m---------------------------------------------------------------------------\u001b[0m",
      "\u001b[0;31mFileNotFoundError\u001b[0m                         Traceback (most recent call last)",
      "\u001b[0;32m<ipython-input-3-dbb3d5a5ff73>\u001b[0m in \u001b[0;36m<module>\u001b[0;34m\u001b[0m\n\u001b[1;32m      1\u001b[0m \u001b[0mSR\u001b[0m \u001b[0;34m=\u001b[0m \u001b[0;36m16000\u001b[0m\u001b[0;34m\u001b[0m\u001b[0;34m\u001b[0m\u001b[0m\n\u001b[0;32m----> 2\u001b[0;31m \u001b[0msrc_cute\u001b[0m\u001b[0;34m,\u001b[0m \u001b[0m_\u001b[0m \u001b[0;34m=\u001b[0m \u001b[0mlibrosa\u001b[0m\u001b[0;34m.\u001b[0m\u001b[0mload\u001b[0m\u001b[0;34m(\u001b[0m\u001b[0;34m'../SoloProject/AudioSet_WAV_files/Coughs/_0WKVY0n8aE.wav'\u001b[0m\u001b[0;34m,\u001b[0m \u001b[0msr\u001b[0m\u001b[0;34m=\u001b[0m\u001b[0mSR\u001b[0m\u001b[0;34m,\u001b[0m \u001b[0mmono\u001b[0m\u001b[0;34m=\u001b[0m\u001b[0;32mTrue\u001b[0m\u001b[0;34m)\u001b[0m\u001b[0;34m\u001b[0m\u001b[0;34m\u001b[0m\u001b[0m\n\u001b[0m\u001b[1;32m      3\u001b[0m \u001b[0;34m\u001b[0m\u001b[0m\n\u001b[1;32m      4\u001b[0m \u001b[0msrc\u001b[0m \u001b[0;34m=\u001b[0m \u001b[0mnp\u001b[0m\u001b[0;34m.\u001b[0m\u001b[0mrandom\u001b[0m\u001b[0;34m.\u001b[0m\u001b[0mrandom\u001b[0m\u001b[0;34m(\u001b[0m\u001b[0;34m(\u001b[0m\u001b[0;36m1\u001b[0m\u001b[0;34m,\u001b[0m \u001b[0mSR\u001b[0m \u001b[0;34m*\u001b[0m \u001b[0;36m3\u001b[0m\u001b[0;34m)\u001b[0m\u001b[0;34m)\u001b[0m\u001b[0;34m\u001b[0m\u001b[0;34m\u001b[0m\u001b[0m\n\u001b[1;32m      5\u001b[0m \u001b[0;34m\u001b[0m\u001b[0m\n",
      "\u001b[0;32m~/anaconda3/lib/python3.6/site-packages/librosa/core/audio.py\u001b[0m in \u001b[0;36mload\u001b[0;34m(path, sr, mono, offset, duration, dtype, res_type)\u001b[0m\n\u001b[1;32m    117\u001b[0m \u001b[0;34m\u001b[0m\u001b[0m\n\u001b[1;32m    118\u001b[0m     \u001b[0my\u001b[0m \u001b[0;34m=\u001b[0m \u001b[0;34m[\u001b[0m\u001b[0;34m]\u001b[0m\u001b[0;34m\u001b[0m\u001b[0;34m\u001b[0m\u001b[0m\n\u001b[0;32m--> 119\u001b[0;31m     \u001b[0;32mwith\u001b[0m \u001b[0maudioread\u001b[0m\u001b[0;34m.\u001b[0m\u001b[0maudio_open\u001b[0m\u001b[0;34m(\u001b[0m\u001b[0mos\u001b[0m\u001b[0;34m.\u001b[0m\u001b[0mpath\u001b[0m\u001b[0;34m.\u001b[0m\u001b[0mrealpath\u001b[0m\u001b[0;34m(\u001b[0m\u001b[0mpath\u001b[0m\u001b[0;34m)\u001b[0m\u001b[0;34m)\u001b[0m \u001b[0;32mas\u001b[0m \u001b[0minput_file\u001b[0m\u001b[0;34m:\u001b[0m\u001b[0;34m\u001b[0m\u001b[0;34m\u001b[0m\u001b[0m\n\u001b[0m\u001b[1;32m    120\u001b[0m         \u001b[0msr_native\u001b[0m \u001b[0;34m=\u001b[0m \u001b[0minput_file\u001b[0m\u001b[0;34m.\u001b[0m\u001b[0msamplerate\u001b[0m\u001b[0;34m\u001b[0m\u001b[0;34m\u001b[0m\u001b[0m\n\u001b[1;32m    121\u001b[0m         \u001b[0mn_channels\u001b[0m \u001b[0;34m=\u001b[0m \u001b[0minput_file\u001b[0m\u001b[0;34m.\u001b[0m\u001b[0mchannels\u001b[0m\u001b[0;34m\u001b[0m\u001b[0;34m\u001b[0m\u001b[0m\n",
      "\u001b[0;32m~/anaconda3/lib/python3.6/site-packages/audioread/__init__.py\u001b[0m in \u001b[0;36maudio_open\u001b[0;34m(path)\u001b[0m\n\u001b[1;32m     78\u001b[0m     \u001b[0;32mfrom\u001b[0m \u001b[0;34m.\u001b[0m \u001b[0;32mimport\u001b[0m \u001b[0mrawread\u001b[0m\u001b[0;34m\u001b[0m\u001b[0;34m\u001b[0m\u001b[0m\n\u001b[1;32m     79\u001b[0m     \u001b[0;32mtry\u001b[0m\u001b[0;34m:\u001b[0m\u001b[0;34m\u001b[0m\u001b[0;34m\u001b[0m\u001b[0m\n\u001b[0;32m---> 80\u001b[0;31m         \u001b[0;32mreturn\u001b[0m \u001b[0mrawread\u001b[0m\u001b[0;34m.\u001b[0m\u001b[0mRawAudioFile\u001b[0m\u001b[0;34m(\u001b[0m\u001b[0mpath\u001b[0m\u001b[0;34m)\u001b[0m\u001b[0;34m\u001b[0m\u001b[0;34m\u001b[0m\u001b[0m\n\u001b[0m\u001b[1;32m     81\u001b[0m     \u001b[0;32mexcept\u001b[0m \u001b[0mDecodeError\u001b[0m\u001b[0;34m:\u001b[0m\u001b[0;34m\u001b[0m\u001b[0;34m\u001b[0m\u001b[0m\n\u001b[1;32m     82\u001b[0m         \u001b[0;32mpass\u001b[0m\u001b[0;34m\u001b[0m\u001b[0;34m\u001b[0m\u001b[0m\n",
      "\u001b[0;32m~/anaconda3/lib/python3.6/site-packages/audioread/rawread.py\u001b[0m in \u001b[0;36m__init__\u001b[0;34m(self, filename)\u001b[0m\n\u001b[1;32m     59\u001b[0m     \"\"\"\n\u001b[1;32m     60\u001b[0m     \u001b[0;32mdef\u001b[0m \u001b[0m__init__\u001b[0m\u001b[0;34m(\u001b[0m\u001b[0mself\u001b[0m\u001b[0;34m,\u001b[0m \u001b[0mfilename\u001b[0m\u001b[0;34m)\u001b[0m\u001b[0;34m:\u001b[0m\u001b[0;34m\u001b[0m\u001b[0;34m\u001b[0m\u001b[0m\n\u001b[0;32m---> 61\u001b[0;31m         \u001b[0mself\u001b[0m\u001b[0;34m.\u001b[0m\u001b[0m_fh\u001b[0m \u001b[0;34m=\u001b[0m \u001b[0mopen\u001b[0m\u001b[0;34m(\u001b[0m\u001b[0mfilename\u001b[0m\u001b[0;34m,\u001b[0m \u001b[0;34m'rb'\u001b[0m\u001b[0;34m)\u001b[0m\u001b[0;34m\u001b[0m\u001b[0;34m\u001b[0m\u001b[0m\n\u001b[0m\u001b[1;32m     62\u001b[0m \u001b[0;34m\u001b[0m\u001b[0m\n\u001b[1;32m     63\u001b[0m         \u001b[0;32mtry\u001b[0m\u001b[0;34m:\u001b[0m\u001b[0;34m\u001b[0m\u001b[0;34m\u001b[0m\u001b[0m\n",
      "\u001b[0;31mFileNotFoundError\u001b[0m: [Errno 2] No such file or directory: '/Users/annabernbaum/Documents/GitHub/SoloProject/AudioSet_WAV_files/Coughs/_0WKVY0n8aE.wav'"
     ]
    }
   ],
   "source": [
    "SR = 16000\n",
    "src_cute, _ = librosa.load('../SoloProject/AudioSet_WAV_files/Coughs/_0WKVY0n8aE.wav', sr=SR, mono=True)\n",
    "\n",
    "src = np.random.random((1, SR * 3))\n",
    "\n",
    "input_shape = (1, SR)\n",
    "\n",
    "model = keras.Sequential()\n",
    "model.add(Spectrogram(n_dft=512, n_hop=256, input_shape=src.shape, \n",
    "          return_decibel_spectrogram=False, power_spectrogram=2.0, \n",
    "          trainable_kernel=False, name='static_stft'))\n",
    "\n",
    "check_model(model)\n",
    "plt.figure(figsize=(14, 4))\n",
    "plt.subplot(1, 2, 1)\n",
    "plt.title('log-Spectrogram by Kapre')\n",
    "visualise_model(model, logam=True)\n",
    "plt.subplot(1, 2, 2)\n",
    "display.specshow(librosa.power_to_db(np.abs(librosa.stft(src_cute[: SR * 3], 512, 256)) ** 2, ref=1.0), \n",
    "                         y_axis='linear', sr=SR)\n",
    "plt.title('log-Spectrogram by Librosa')"
   ]
  },
  {
   "cell_type": "markdown",
   "metadata": {},
   "source": [
    "# Load and split the dataset"
   ]
  },
  {
   "cell_type": "code",
   "execution_count": 4,
   "metadata": {},
   "outputs": [
    {
     "name": "stdout",
     "output_type": "stream",
     "text": [
      "train audio shape: (333, 1, 220500)\n",
      "train labels shape: (333, 1)\n",
      "test audio shape: (111, 1, 220500)\n",
      "test labels shape: (111, 1)\n"
     ]
    }
   ],
   "source": [
    "# load in samples from directory\n",
    "# librosa.load()\n",
    "\n",
    "total_number = 0\n",
    "for clip in os.listdir(\"Audioset_WAV_files/Speech/\"):\n",
    "    if clip.endswith('.wav'):\n",
    "        total_number += 1\n",
    "        \n",
    "total_number = total_number*2\n",
    "split = int(0.75*total_number)\n",
    "\n",
    "# create empty arrays for the audio data and labels\n",
    "audio = np.empty([total_number, 1, 220500])\n",
    "labels = np.empty([total_number, 1])\n",
    "\n",
    "\n",
    "# one hot vectors : keras.utils.np_utitls.to_categorical.\n",
    "\n",
    "# Add the audio and labels to the empty arrays\n",
    "i = 0\n",
    "for clip in os.listdir(\"Audioset_WAV_files/Speech/\"):\n",
    "    if clip.endswith('.wav'):\n",
    "        y, sr = librosa.load(\"Audioset_WAV_files/Speech/\" + clip, mono=True) # trim a 10 second segment from start_time    \n",
    "        audio[i, 0] = y\n",
    "        labels[i] = 0\n",
    "        i = i + 1  \n",
    "        \n",
    "for clip in os.listdir(\"Audioset_WAV_files/Coughs/\"):\n",
    "    if clip.endswith('.wav'):\n",
    "        y, sr = librosa.load(\"Audioset_WAV_files/Coughs/\" + clip, mono=True) # trim a 10 second segment from start_time    \n",
    "        audio[i, 0] = y\n",
    "        labels[i] = 1\n",
    "        \n",
    "        i = i + 1\n",
    "\n",
    "# Shuffle the files\n",
    "permutation = np.random.permutation(audio.shape[0])\n",
    "shuffled_audio = audio[permutation]\n",
    "shuffled_labels = labels[permutation]\n",
    "\n",
    "# Split into 2 groups\n",
    "train_audio = shuffled_audio[:split]\n",
    "train_labels = shuffled_labels[:split]\n",
    "\n",
    "test_audio = shuffled_audio[split:]\n",
    "test_labels = shuffled_labels[split:]\n",
    "\n",
    "print('train audio shape:', train_audio.shape)\n",
    "print('train labels shape:', train_labels.shape)\n",
    "\n",
    "print('test audio shape:', test_audio.shape)\n",
    "print('test labels shape:', test_labels.shape)"
   ]
  },
  {
   "cell_type": "markdown",
   "metadata": {},
   "source": [
    "# Set up the layers"
   ]
  },
  {
   "cell_type": "code",
   "execution_count": 5,
   "metadata": {},
   "outputs": [
    {
     "name": "stdout",
     "output_type": "stream",
     "text": [
      "WARNING:tensorflow:From /Users/annabernbaum/anaconda3/lib/python3.6/site-packages/tensorflow/python/framework/op_def_library.py:263: colocate_with (from tensorflow.python.framework.ops) is deprecated and will be removed in a future version.\n",
      "Instructions for updating:\n",
      "Colocations handled automatically by placer.\n",
      "_________________________________________________________________\n",
      "Layer (type)                 Output Shape              Param #   \n",
      "=================================================================\n",
      "trainable_stft (Melspectrogr (None, 128, 862, 1)       296064    \n",
      "_________________________________________________________________\n",
      "dense_1 (Dense)              (None, 128, 862, 128)     256       \n",
      "_________________________________________________________________\n",
      "flatten_1 (Flatten)          (None, 14123008)          0         \n",
      "_________________________________________________________________\n",
      "dense_2 (Dense)              (None, 1)                 14123009  \n",
      "=================================================================\n",
      "Total params: 14,419,329\n",
      "Trainable params: 14,123,265\n",
      "Non-trainable params: 296,064\n",
      "_________________________________________________________________\n"
     ]
    }
   ],
   "source": [
    "model = keras.Sequential()\n",
    "\n",
    "input_shape = (1, 220500)\n",
    "\n",
    "sr = 22050  # Sampling rate of the audio\n",
    "\n",
    "# model.add(Spectrogram(n_dft=512, n_hop=256, input_shape=input_shape, \n",
    "#           return_decibel_spectrogram=True, power_spectrogram=2.0, \n",
    "#           trainable_kernel=False, name='static_stft'))\n",
    "\n",
    "model.add(Melspectrogram(n_dft=512, n_hop=256, input_shape=input_shape,\n",
    "                         padding='same', sr=sr, n_mels=128,\n",
    "                         fmin=0.0, fmax=sr/2, power_melgram=1.0,\n",
    "                         return_decibel_melgram=False, trainable_fb=False,\n",
    "                         trainable_kernel=False,\n",
    "                         name='trainable_stft'))\n",
    "\n",
    "\n",
    "# maybe try to model these layers based on VGG-ish\n",
    "# https://github.com/tensorflow/models/blob/master/research/audioset/vggish_slim.py\n",
    "\n",
    "# first layer should be a convolutional layer\n",
    "# then relu\n",
    "\n",
    "# fully-connected, neural llayer with 128 nodes\n",
    "model.add(keras.layers.Dense(128, activation=tf.nn.relu))\n",
    "\n",
    "model.add(keras.layers.Flatten()),  \n",
    "\n",
    "model.add(keras.layers.Dense(1, activation='sigmoid'))\n",
    "    \n",
    "#  softmax layer—this returns an array of 10 probability scores that sum to 1\n",
    "#  Each node contains a score that indicates the probability that the current \n",
    "#  image belongs to one of the 10 classes.\n",
    "# model2.add(keras.layers.Dense(10, activation=tf.nn.softmax))\n",
    "\n",
    "model.summary()"
   ]
  },
  {
   "cell_type": "markdown",
   "metadata": {},
   "source": [
    "# Compile the model"
   ]
  },
  {
   "cell_type": "code",
   "execution_count": 6,
   "metadata": {},
   "outputs": [],
   "source": [
    "model.compile(optimizer='adam', loss='binary_crossentropy', metrics = ['acc'])"
   ]
  },
  {
   "cell_type": "markdown",
   "metadata": {},
   "source": [
    "# Train the model"
   ]
  },
  {
   "cell_type": "code",
   "execution_count": 7,
   "metadata": {},
   "outputs": [
    {
     "name": "stdout",
     "output_type": "stream",
     "text": [
      "WARNING:tensorflow:From /Users/annabernbaum/anaconda3/lib/python3.6/site-packages/tensorflow/python/ops/math_ops.py:3066: to_int32 (from tensorflow.python.ops.math_ops) is deprecated and will be removed in a future version.\n",
      "Instructions for updating:\n",
      "Use tf.cast instead.\n",
      "Epoch 1/10\n",
      "333/333 [==============================] - 64s 194ms/step - loss: 3.5892 - acc: 0.6006\n",
      "Epoch 2/10\n",
      "333/333 [==============================] - 62s 185ms/step - loss: 2.4403 - acc: 0.8288\n",
      "Epoch 3/10\n",
      "333/333 [==============================] - 69s 208ms/step - loss: 2.4394 - acc: 0.8168\n",
      "Epoch 4/10\n",
      "333/333 [==============================] - 65s 195ms/step - loss: 2.5415 - acc: 0.8048\n",
      "Epoch 5/10\n",
      "333/333 [==============================] - 53s 160ms/step - loss: 2.0408 - acc: 0.8468\n",
      "Epoch 6/10\n",
      "333/333 [==============================] - 42s 126ms/step - loss: 1.6933 - acc: 0.8889\n",
      "Epoch 7/10\n",
      "333/333 [==============================] - 55s 165ms/step - loss: 1.7329 - acc: 0.8859\n",
      "Epoch 8/10\n",
      "333/333 [==============================] - 63s 191ms/step - loss: 2.1203 - acc: 0.8589\n",
      "Epoch 9/10\n",
      "333/333 [==============================] - 65s 195ms/step - loss: 1.7068 - acc: 0.8859\n",
      "Epoch 10/10\n",
      "333/333 [==============================] - 72s 215ms/step - loss: 2.0373 - acc: 0.8589\n"
     ]
    }
   ],
   "source": [
    "# all clips are the same length from downloading stage\n",
    "history = model.fit(train_audio, train_labels, epochs=10)"
   ]
  },
  {
   "cell_type": "markdown",
   "metadata": {},
   "source": [
    "## Model Training History"
   ]
  },
  {
   "cell_type": "code",
   "execution_count": 10,
   "metadata": {},
   "outputs": [
    {
     "name": "stdout",
     "output_type": "stream",
     "text": [
      "dict_keys(['loss', 'acc'])\n"
     ]
    },
    {
     "data": {
      "image/png": "[encoded data removed]",
      "text/plain": [
       "<Figure size 432x288 with 1 Axes>"
      ]
     },
     "metadata": {
      "needs_background": "light"
     },
     "output_type": "display_data"
    },
    {
     "data": {
      "image/png": "[encoded data removed]",
      "text/plain": [
       "<Figure size 432x288 with 1 Axes>"
      ]
     },
     "metadata": {
      "needs_background": "light"
     },
     "output_type": "display_data"
    }
   ],
   "source": [
    "# list all data in history\n",
    "print(history.history.keys())\n",
    "# summarize history for accuracy\n",
    "plt.plot(history.history['acc'])\n",
    "# plt.plot(history.history['val_acc'])\n",
    "plt.title('model accuracy')\n",
    "plt.ylabel('accuracy')\n",
    "plt.xlabel('epoch')\n",
    "plt.legend(['train', 'test'], loc='upper left')\n",
    "plt.show()\n",
    "# summarize history for loss\n",
    "plt.plot(history.history['loss'])\n",
    "# plt.plot(history.history['val_loss'])\n",
    "plt.title('model loss')\n",
    "plt.ylabel('loss')\n",
    "plt.xlabel('epoch')\n",
    "plt.legend(['train', 'test'], loc='upper left')\n",
    "plt.show()"
   ]
  },
  {
   "cell_type": "markdown",
   "metadata": {},
   "source": [
    "# Evaluate the Model"
   ]
  },
  {
   "cell_type": "code",
   "execution_count": 11,
   "metadata": {},
   "outputs": [
    {
     "name": "stdout",
     "output_type": "stream",
     "text": [
      "111/111 [==============================] - 4s 34ms/step\n",
      "Loss: 4.211288443556777\n",
      "Accuracy: 0.7297297324146237\n"
     ]
    }
   ],
   "source": [
    "test_loss, test_accuracy = model.evaluate(test_audio, test_labels)\n",
    "print('Loss:', test_loss)\n",
    "print('Accuracy:', test_accuracy)\n",
    "\n",
    "# how do you check for overfitting? \n",
    "# plot changes epoch - to - epoch"
   ]
  },
  {
   "cell_type": "markdown",
   "metadata": {},
   "source": [
    "# Make predictions"
   ]
  },
  {
   "cell_type": "code",
   "execution_count": 12,
   "metadata": {},
   "outputs": [
    {
     "name": "stdout",
     "output_type": "stream",
     "text": [
      "Highest Label Confidence Value: 0\n",
      "Actual Label: [1.]\n"
     ]
    }
   ],
   "source": [
    "predictions = model.predict(test_audio)\n",
    "\n",
    "print('Highest Label Confidence Value:', np.argmax(predictions[0]))\n",
    "\n",
    "# check if prediction is correct\n",
    "print('Actual Label:', test_labels[0])"
   ]
  },
  {
   "cell_type": "code",
   "execution_count": null,
   "metadata": {},
   "outputs": [],
   "source": []
  },
  {
   "cell_type": "markdown",
   "metadata": {},
   "source": [
    "## Confusion Matrix"
   ]
  },
  {
   "cell_type": "code",
   "execution_count": 13,
   "metadata": {},
   "outputs": [
    {
     "name": "stdout",
     "output_type": "stream",
     "text": [
      "True Negatives:  36\n",
      "False Positives:  21\n",
      "False Negatives:  8\n",
      "True Positives:  46\n"
     ]
    },
    {
     "data": {
      "image/png": "[encoded data removed]",
      "text/plain": [
       "<Figure size 432x288 with 2 Axes>"
      ]
     },
     "metadata": {
      "needs_background": "light"
     },
     "output_type": "display_data"
    }
   ],
   "source": [
    "def plot_confusion_matrix(cm, title='Confusion matrix', cmap=plt.cm.Blues):\n",
    "    plt.imshow(cm, interpolation='nearest', cmap=cmap)\n",
    "    plt.title(title)\n",
    "    plt.colorbar()\n",
    "    tick_marks = np.arange(2)\n",
    "    \n",
    "    #!!!!!! NOTE THAT THESE LABELS MAY BE BACKWARDS\n",
    "    plt.xticks(tick_marks, ['Cough','Speech'], rotation=45)\n",
    "    plt.yticks(tick_marks, ['Cough','Speech'])\n",
    "    \n",
    "    fmt = 'd'\n",
    "    thresh = cm.max() / 2.\n",
    "    for i, j in itertools.product(range(cm.shape[0]), range(cm.shape[1])):\n",
    "        plt.text(j, i, format(cm[i, j], fmt),\n",
    "                 horizontalalignment=\"center\",\n",
    "                 color=\"white\" if cm[i, j] > thresh else \"black\")\n",
    "\n",
    "    plt.tight_layout()\n",
    "    plt.ylabel('True label')\n",
    "    plt.xlabel('Predicted label')\n",
    "    plt.grid(b=None)\n",
    "\n",
    "# From tutorial: A prediction is an array of 10 numbers. These describe the \"confidence\" of the model \n",
    "# that the image corresponds to each of the 10 different articles of clothing.\n",
    "rounded_predictions = []\n",
    "for i in predictions:\n",
    "    i = int(i)\n",
    "    rounded_predictions.append(i)\n",
    "    \n",
    "# cm = metrics.confusion_matrix(test_labels, predictions.argmax(axis=1), labels=None, sample_weight=None)\n",
    "cm = metrics.confusion_matrix(test_labels, rounded_predictions, labels=None, sample_weight=None)\n",
    "plot_confusion_matrix(cm)\n",
    "\n",
    "tn, fp, fn, tp = cm.ravel()\n",
    "print(\"True Negatives: \",tn)\n",
    "print(\"False Positives: \",fp)\n",
    "print(\"False Negatives: \",fn)\n",
    "print(\"True Positives: \",tp)\n",
    "\n",
    "# Normalised confusion matrix"
   ]
  },
  {
   "cell_type": "markdown",
   "metadata": {},
   "source": [
    "# Save the model"
   ]
  },
  {
   "cell_type": "code",
   "execution_count": 14,
   "metadata": {},
   "outputs": [],
   "source": [
    "filename = 'First Attempt on Single Tagged Clips'\n",
    "filepath = 'Saved Keras Models/' + filename\n",
    "model.save(filepath)\n",
    "\n",
    "# To load a model:\n",
    "# model = load_model('my_model.h5')"
   ]
  },
  {
   "cell_type": "code",
   "execution_count": null,
   "metadata": {},
   "outputs": [],
   "source": []
  }
 ],
 "metadata": {
  "kernelspec": {
   "display_name": "Python 3",
   "language": "python",
   "name": "python3"
  },
  "language_info": {
   "codemirror_mode": {
    "name": "ipython",
    "version": 3
   },
   "file_extension": ".py",
   "mimetype": "text/x-python",
   "name": "python",
   "nbconvert_exporter": "python",
   "pygments_lexer": "ipython3",
   "version": "3.6.7"
  }
 },
 "nbformat": 4,
 "nbformat_minor": 2
}
