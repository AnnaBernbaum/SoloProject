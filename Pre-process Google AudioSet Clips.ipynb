{
 "cells": [
  {
   "cell_type": "markdown",
   "metadata": {},
   "source": [
    "# Preprocess the Google AudioSet clips\n",
    "## Anna Bernbaum\n",
    "## April 2019\n"
   ]
  },
  {
   "cell_type": "markdown",
   "metadata": {},
   "source": [
    "The audio clips have been downloaded using `Downloading Google Audioset clips.ipynb` into a directory structure as shown below:\n",
    "\n",
    "`|-- AudioSet_WAV_files\n",
    "    |-- Coughs\n",
    "    |-- Speech`\n",
    "    \n",
    "Coughs and Speech both contain the same number of audio clips. Most are 10 seconds long but not all.\n",
    "\n",
    "Remaining concerns:\n",
    "- Some clips have trailing silence that could be trimmed\n",
    "- Is it an issue that clips are different lengths?\n",
    "- Many clips contain audible noises as well as coughing/speech. These are likely labelled with multiple tags. Shouls these be removed?\n",
    "- Clips are different lengths, a few are shorter than 10 seconds - this could become a problem"
   ]
  },
  {
   "cell_type": "markdown",
   "metadata": {},
   "source": [
    "# Generating Spectrograms"
   ]
  },
  {
   "cell_type": "code",
   "execution_count": null,
   "metadata": {},
   "outputs": [],
   "source": []
  },
  {
   "cell_type": "markdown",
   "metadata": {},
   "source": [
    "# Splitting the spectrograms into test, training and validation sets"
   ]
  },
  {
   "cell_type": "code",
   "execution_count": null,
   "metadata": {},
   "outputs": [],
   "source": []
  }
 ],
 "metadata": {
  "kernelspec": {
   "display_name": "Python 3",
   "language": "python",
   "name": "python3"
  },
  "language_info": {
   "codemirror_mode": {
    "name": "ipython",
    "version": 3
   },
   "file_extension": ".py",
   "mimetype": "text/x-python",
   "name": "python",
   "nbconvert_exporter": "python",
   "pygments_lexer": "ipython3",
   "version": "3.6.7"
  }
 },
 "nbformat": 4,
 "nbformat_minor": 2
}
